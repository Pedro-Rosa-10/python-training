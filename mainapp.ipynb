{
 "cells": [
  {
   "cell_type": "code",
   "execution_count": 1,
   "metadata": {},
   "outputs": [
    {
     "name": "stdout",
     "output_type": "stream",
     "text": [
      "First Name,Last Name,DOB,Sketches\n",
      "\n",
      "John,Cleese,10/27/39,\"The Cheese Shop, Ministry of Silly Walks, It's the Arts\"\n",
      "\n",
      "Eric,Idle,3/29/43,\"The Cheese Shop, Nudge Nudge, \"\"Spam\"\"\"\n",
      "\n",
      "Peter,O'Toole,8/2/32,Lawrence of Arabia\n"
     ]
    }
   ],
   "source": [
    "file = 'actors.csv'\n",
    "\n",
    "with open(file) as f:\n",
    "    for row in f:\n",
    "        print(row)"
   ]
  },
  {
   "cell_type": "code",
   "execution_count": 7,
   "metadata": {},
   "outputs": [
    {
     "name": "stdout",
     "output_type": "stream",
     "text": [
      "First Name,Last Name,DOB,Sketches\n",
      "John,Cleese,10/27/39,\"The Cheese Shop, Ministry of Silly Walks, It's the Arts\"\n",
      "Eric,Idle,3/29/43,\"The Cheese Shop, Nudge Nudge, \"\"Spam\"\"\"\n",
      "Peter,O'Toole,8/2/32,Lawrence of Arabia\n"
     ]
    }
   ],
   "source": [
    "import csv\n",
    "\n",
    "file = 'actors.pdv'\n",
    "\n",
    "with open(file) as f:\n",
    "    for row in f:\n",
    "        print(row.strip())"
   ]
  }
 ],
 "metadata": {
  "kernelspec": {
   "display_name": "venv",
   "language": "python",
   "name": "python3"
  },
  "language_info": {
   "codemirror_mode": {
    "name": "ipython",
    "version": 3
   },
   "file_extension": ".py",
   "mimetype": "text/x-python",
   "name": "python",
   "nbconvert_exporter": "python",
   "pygments_lexer": "ipython3",
   "version": "3.12.2"
  }
 },
 "nbformat": 4,
 "nbformat_minor": 2
}
