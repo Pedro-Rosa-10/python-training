{
 "cells": [
  {
   "cell_type": "markdown",
   "id": "anonymous-accounting",
   "metadata": {},
   "source": [
    "### Exercises"
   ]
  },
  {
   "cell_type": "markdown",
   "id": "nominated-african",
   "metadata": {},
   "source": [
    "#### Question 1"
   ]
  },
  {
   "cell_type": "markdown",
   "id": "hungry-vietnam",
   "metadata": {},
   "source": [
    "Write a function that, given an epoch timestamp, returns a `datetime` object set to the beginning of that month (so midnight of the first day of the month)."
   ]
  },
  {
   "cell_type": "markdown",
   "id": "false-fountain",
   "metadata": {},
   "source": [
    "For example, given the epoch time `12345678.9`, your function should return:\n",
    "```\n",
    "datetime.datetime(1970, 5, 1, 0, 0)\n",
    "```"
   ]
  },
  {
   "cell_type": "code",
   "execution_count": 3,
   "id": "659a7346",
   "metadata": {},
   "outputs": [
    {
     "data": {
      "text/plain": [
       "datetime.datetime(1970, 5, 1, 0, 0)"
      ]
     },
     "execution_count": 3,
     "metadata": {},
     "output_type": "execute_result"
    }
   ],
   "source": [
    "from datetime import datetime\n",
    "\n",
    "def beg(epts):\n",
    "    dt = datetime.fromtimestamp(epts)\n",
    "    beggining = dt.replace(day=1, hour=0, minute=0, second=0, microsecond=0)\n",
    "    return beggining\n",
    "\n",
    "ep_ts = 12345678.9\n",
    "\n",
    "beg(ep_ts)"
   ]
  },
  {
   "cell_type": "markdown",
   "id": "photographic-willow",
   "metadata": {},
   "source": [
    "#### Question 2"
   ]
  },
  {
   "cell_type": "markdown",
   "id": "mexican-cooperative",
   "metadata": {},
   "source": [
    "Write a function that returns the difference in hours between two dates provided as Python standard ISO formatted strings, rounded to the nearest hour. For simplicity, assume that these dates do not contain fractional seconds."
   ]
  },
  {
   "cell_type": "markdown",
   "id": "underlying-concord",
   "metadata": {},
   "source": [
    "For example, given these two dates:\n",
    "```\n",
    "2001-01-01T13:50:23\n",
    "```\n",
    "\n",
    "and \n",
    "```\n",
    "2001-06-12T14:23:50\n",
    "```\n",
    "\n",
    "your result should be `3889` hours."
   ]
  },
  {
   "cell_type": "code",
   "execution_count": 17,
   "id": "f6177049",
   "metadata": {},
   "outputs": [
    {
     "name": "stdout",
     "output_type": "stream",
     "text": [
      "\n",
      "  First time: 2001-01-01T13:50:23\n",
      " Second time: 2001-06-12T14:23:50\n",
      "Dif in hours: 3889\n"
     ]
    }
   ],
   "source": [
    "from datetime import datetime, timedelta\n",
    "\n",
    "def t_dif(f_time, s_time):\n",
    "    datetime_format = '%Y-%m-%dT%H:%M:%S'\n",
    "    time1 = datetime.strptime(f_time, datetime_format)\n",
    "    time2 = datetime.strptime(s_time, datetime_format)\n",
    "    t_difference = time2 - time1\n",
    "    return t_difference.total_seconds() / 3600\n",
    "\n",
    "first_t = '2001-01-01T13:50:23'\n",
    "second_t = '2001-06-12T14:23:50'\n",
    "\n",
    "time_difference = t_dif(first_t, second_t)\n",
    "print(f'\\n  First time: {first_t}\\n Second time: {second_t}\\nDif in hours: {time_difference:.0f}')"
   ]
  },
  {
   "cell_type": "markdown",
   "id": "promising-demand",
   "metadata": {},
   "source": [
    "#### Question 3"
   ]
  },
  {
   "cell_type": "markdown",
   "id": "fewer-reception",
   "metadata": {},
   "source": [
    "Write a function that can be used to consistently format `datetime` objects into strings with some default format, but allows the caller to override the default format."
   ]
  },
  {
   "cell_type": "markdown",
   "id": "conditional-mason",
   "metadata": {},
   "source": [
    "For example, the default format could be `mm/dd/yyyy hh:mm:ss am/pm`, but your function allows itself to be called with some argument that can override that format."
   ]
  },
  {
   "cell_type": "code",
   "execution_count": 9,
   "id": "ce829bdd",
   "metadata": {},
   "outputs": [
    {
     "ename": "SyntaxError",
     "evalue": "invalid syntax. Maybe you meant '==' or ':=' instead of '='? (4052377812.py, line 7)",
     "output_type": "error",
     "traceback": [
      "\u001b[1;36m  Cell \u001b[1;32mIn[9], line 7\u001b[1;36m\u001b[0m\n\u001b[1;33m    timing = datetime(2020, 2, 1, 13, 34, 5), datetime_format='%B %d, %Y'\u001b[0m\n\u001b[1;37m    ^\u001b[0m\n\u001b[1;31mSyntaxError\u001b[0m\u001b[1;31m:\u001b[0m invalid syntax. Maybe you meant '==' or ':=' instead of '='?\n"
     ]
    }
   ],
   "source": [
    "from datetime import datetime\n",
    "\n",
    "def reformat(time_string, *, datetime_format='%m/%d/%Y %I:%M:%S %p'):\n",
    "    return time_string.strftime(datetime_format)\n",
    "\n",
    "# timing = datetime(2020, 2, 1, 13, 34, 5)\n",
    "timing = datetime(2020, 2, 1, 13, 34, 5)\n",
    "\n",
    "reformat(timing, datetime_format='%B %d, %Y')"
   ]
  }
 ],
 "metadata": {
  "kernelspec": {
   "display_name": "Python 3",
   "language": "python",
   "name": "python3"
  },
  "language_info": {
   "codemirror_mode": {
    "name": "ipython",
    "version": 3
   },
   "file_extension": ".py",
   "mimetype": "text/x-python",
   "name": "python",
   "nbconvert_exporter": "python",
   "pygments_lexer": "ipython3",
   "version": "3.12.2"
  }
 },
 "nbformat": 4,
 "nbformat_minor": 5
}
