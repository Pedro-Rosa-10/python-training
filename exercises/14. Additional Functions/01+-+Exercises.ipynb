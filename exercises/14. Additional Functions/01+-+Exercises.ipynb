{
 "cells": [
  {
   "cell_type": "markdown",
   "id": "golden-ending",
   "metadata": {},
   "source": [
    "### Exercises"
   ]
  },
  {
   "cell_type": "markdown",
   "id": "minimal-layer",
   "metadata": {},
   "source": [
    "#### Question 1"
   ]
  },
  {
   "cell_type": "markdown",
   "id": "confirmed-surveillance",
   "metadata": {},
   "source": [
    "Given these two lists:"
   ]
  },
  {
   "cell_type": "code",
   "execution_count": 1,
   "id": "secure-mexican",
   "metadata": {},
   "outputs": [],
   "source": [
    "widgets = [f'w{i}' for i in range(1, 21)]\n",
    "skus = [f'sku{i}' for i in range(1, len(widgets) + 1)]"
   ]
  },
  {
   "cell_type": "markdown",
   "id": "retained-pacific",
   "metadata": {},
   "source": [
    "Write a function that uses the `zip` function to generate a dictionary with keys from the `widgets`, and values from the `skus`, i.e.:\n",
    "\n",
    "```\n",
    "{\n",
    "  'w1': 'sku1',\n",
    "  'w2': 'sku2',\n",
    "  ...\n",
    "  'w20': 'sku20'\n",
    "}\n",
    "```"
   ]
  },
  {
   "cell_type": "code",
   "execution_count": 13,
   "id": "3a871d1e",
   "metadata": {},
   "outputs": [
    {
     "name": "stdout",
     "output_type": "stream",
     "text": [
      "{'w1': 'sku1',\n",
      " 'w10': 'sku10',\n",
      " 'w11': 'sku11',\n",
      " 'w12': 'sku12',\n",
      " 'w13': 'sku13',\n",
      " 'w14': 'sku14',\n",
      " 'w15': 'sku15',\n",
      " 'w16': 'sku16',\n",
      " 'w17': 'sku17',\n",
      " 'w18': 'sku18',\n",
      " 'w19': 'sku19',\n",
      " 'w2': 'sku2',\n",
      " 'w20': 'sku20',\n",
      " 'w3': 'sku3',\n",
      " 'w4': 'sku4',\n",
      " 'w5': 'sku5',\n",
      " 'w6': 'sku6',\n",
      " 'w7': 'sku7',\n",
      " 'w8': 'sku8',\n",
      " 'w9': 'sku9'}\n"
     ]
    }
   ],
   "source": [
    "from pprint import pprint\n",
    "\n",
    "widgets = [f'w{i}' for i in range(1, 21)]\n",
    "skus = [f'sku{i}' for i in range(1, len(widgets) + 1)]\n",
    "\n",
    "def format_zip(widgets, skus):\n",
    "    return pprint(dict(zip(widgets, skus)))\n",
    "\n",
    "format_zip(widgets, skus)"
   ]
  },
  {
   "cell_type": "markdown",
   "id": "potential-kingdom",
   "metadata": {},
   "source": [
    "#### Question 2"
   ]
  },
  {
   "cell_type": "markdown",
   "id": "expanded-payroll",
   "metadata": {},
   "source": [
    "Given the following data:"
   ]
  },
  {
   "cell_type": "code",
   "execution_count": 2,
   "id": "compatible-cabin",
   "metadata": {},
   "outputs": [],
   "source": [
    "suits = 'shdc'  # Spades, Hearts, Diamonds, Clubs\n",
    "ranks = list('23456789') + ['10', 'J', 'Q', 'K', 'A']"
   ]
  },
  {
   "cell_type": "markdown",
   "id": "studied-behavior",
   "metadata": {},
   "source": [
    "Write a function that given those two inputs, returns a list with all 52 cards, consisting of tuples `(rank, suit)`, i.e.\n",
    "\n",
    "```\n",
    "[\n",
    "  [('2', 's'), ('3', 's'), ..., ('K', 's'), ('A', 's')],\n",
    "  [('2', 'h'), ('3', 'h'), ..., ('K', 'h'), ('A', 'h')],\n",
    "  ...\n",
    "]\n",
    "```"
   ]
  },
  {
   "cell_type": "code",
   "execution_count": 39,
   "id": "a11f17b1",
   "metadata": {},
   "outputs": [
    {
     "name": "stdout",
     "output_type": "stream",
     "text": [
      "[[('2', 's'),\n",
      "  ('3', 's'),\n",
      "  ('4', 's'),\n",
      "  ('5', 's'),\n",
      "  ('6', 's'),\n",
      "  ('7', 's'),\n",
      "  ('8', 's'),\n",
      "  ('9', 's'),\n",
      "  ('10', 's'),\n",
      "  ('J', 's'),\n",
      "  ('Q', 's'),\n",
      "  ('K', 's'),\n",
      "  ('A', 's')],\n",
      " [('2', 'h'),\n",
      "  ('3', 'h'),\n",
      "  ('4', 'h'),\n",
      "  ('5', 'h'),\n",
      "  ('6', 'h'),\n",
      "  ('7', 'h'),\n",
      "  ('8', 'h'),\n",
      "  ('9', 'h'),\n",
      "  ('10', 'h'),\n",
      "  ('J', 'h'),\n",
      "  ('Q', 'h'),\n",
      "  ('K', 'h'),\n",
      "  ('A', 'h')],\n",
      " [('2', 'd'),\n",
      "  ('3', 'd'),\n",
      "  ('4', 'd'),\n",
      "  ('5', 'd'),\n",
      "  ('6', 'd'),\n",
      "  ('7', 'd'),\n",
      "  ('8', 'd'),\n",
      "  ('9', 'd'),\n",
      "  ('10', 'd'),\n",
      "  ('J', 'd'),\n",
      "  ('Q', 'd'),\n",
      "  ('K', 'd'),\n",
      "  ('A', 'd')],\n",
      " [('2', 'c'),\n",
      "  ('3', 'c'),\n",
      "  ('4', 'c'),\n",
      "  ('5', 'c'),\n",
      "  ('6', 'c'),\n",
      "  ('7', 'c'),\n",
      "  ('8', 'c'),\n",
      "  ('9', 'c'),\n",
      "  ('10', 'c'),\n",
      "  ('J', 'c'),\n",
      "  ('Q', 'c'),\n",
      "  ('K', 'c'),\n",
      "  ('A', 'c')]]\n"
     ]
    }
   ],
   "source": [
    "from pprint import pprint\n",
    "\n",
    "suits = 'shdc'  # Spades, Hearts, Diamonds, Clubs\n",
    "ranks = list('23456789') + ['10', 'J', 'Q', 'K', 'A']\n",
    "\n",
    "def deck(suits, ranks):\n",
    "    return [list(zip(ranks, suit * 13)) for suit in suits]\n",
    "\n",
    "pprint(deck(suits, ranks))"
   ]
  },
  {
   "cell_type": "markdown",
   "id": "global-helena",
   "metadata": {},
   "source": [
    "#### Question 3"
   ]
  },
  {
   "cell_type": "markdown",
   "id": "confused-causing",
   "metadata": {},
   "source": [
    "Write a function that receives two arguments:\n",
    "- a list of numbers\n",
    "- a keyword-only argument `reverse` that defaults to `False` and indicates an ascending sort, but a value of `True` indicates a descending sort"
   ]
  },
  {
   "cell_type": "markdown",
   "id": "reflected-cause",
   "metadata": {},
   "source": [
    "Your function should return three values:\n",
    "- a list of the numbers, but sorted (ascending/descending depending on value of `reverse`)\n",
    "- the minimum value in the list (this is not affected by the value of `reverse`)\n",
    "- the maximum value in the list (this is not affected by the value of `reverse`)"
   ]
  },
  {
   "cell_type": "code",
   "execution_count": 12,
   "id": "497c33a4",
   "metadata": {},
   "outputs": [
    {
     "name": "stdout",
     "output_type": "stream",
     "text": [
      "Sorted nubmers: [3, 2, 1]\n",
      "Minimum: 1\n",
      "Maximum: 3\n"
     ]
    }
   ],
   "source": [
    "list_numbers = [1, 2, 3]\n",
    "\n",
    "def ordering_numbers(numbers_list, *, reverse=False):\n",
    "    sorted_numbers = sorted(numbers_list, reverse=reverse)\n",
    "    min_value = min(numbers_list)\n",
    "    max_value = max(numbers_list)\n",
    "    return f'Sorted nubmers: {sorted_numbers}\\nMinimum: {min_value}\\nMaximum: {max_value}'\n",
    "\n",
    "print(ordering_numbers(list_numbers, reverse=True))"
   ]
  },
  {
   "cell_type": "code",
   "execution_count": 47,
   "id": "e2a445e2",
   "metadata": {},
   "outputs": [
    {
     "name": "stdout",
     "output_type": "stream",
     "text": [
      "1\n"
     ]
    }
   ],
   "source": [
    "original_array = [3, 1, 4, 1, 5, 9, 2, 6, 5, 3, 5]\n",
    "\n",
    "# Find the minimum value\n",
    "minimum_value = min(original_array)\n",
    "\n",
    "# Print the result\n",
    "print(minimum_value)\n"
   ]
  }
 ],
 "metadata": {
  "kernelspec": {
   "display_name": "Python 3",
   "language": "python",
   "name": "python3"
  },
  "language_info": {
   "codemirror_mode": {
    "name": "ipython",
    "version": 3
   },
   "file_extension": ".py",
   "mimetype": "text/x-python",
   "name": "python",
   "nbconvert_exporter": "python",
   "pygments_lexer": "ipython3",
   "version": "3.12.0"
  }
 },
 "nbformat": 4,
 "nbformat_minor": 5
}
