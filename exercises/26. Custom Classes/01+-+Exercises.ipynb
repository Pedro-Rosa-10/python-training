{
 "cells": [
  {
   "cell_type": "markdown",
   "id": "intimate-skirt",
   "metadata": {},
   "source": [
    "### Solutions"
   ]
  },
  {
   "cell_type": "markdown",
   "id": "compliant-pavilion",
   "metadata": {},
   "source": [
    "#### Question 1"
   ]
  },
  {
   "cell_type": "markdown",
   "id": "private-theory",
   "metadata": {},
   "source": [
    "Write a custom class that will be used to model a single bank account."
   ]
  },
  {
   "cell_type": "markdown",
   "id": "greenhouse-anchor",
   "metadata": {},
   "source": [
    "Your class should implement functionality to:\n",
    "- allow initialization with values for `first_name`, `last_name`, `account_number`, `balance`, `is_overdraft_allowed`\n",
    "- keep track of a \"ledger\" that keeps a record all transactions (just use a list to keep track of this)\n",
    "    - at a minimum it should keep track of the transaction date (the current UTC datetime) and the amount (positive, or negative to indicate deposits/withdrawals) - later you could add tracking the running balance as well.\n",
    "- provide read-only properties for `first_name`, `last_name`, `account_number` and `balance`\n",
    "- provide a property to access the ledger in such a way that a user of this class cannot mutate the ledger directly\n",
    "- provide a read-write property for `is_overdraft_allowed` that indicates whether overdrafts are allowed on the account.\n",
    "- provide methods to debit (`def withdraw`) and credit (`def deposit`) transactions that:\n",
    "    - verify withdrawals against available balance and `is_overdraft_allowed` flag\n",
    "        - if withdrawal is larger than available balance and overdrafts are not allowed, this should raise a custom `OverdraftNotAllowed` exception.\n",
    "        - if transaction value is not positive, this should raise a `ValueError` exception (we have separate methods for deposits and withdrawals, and we expect the value to be positive in both cases - one will add to the balance, one will subtract from the balance).\n",
    "    - add an entry to the ledger with a current UTC timestamp (positive or negative to indicate credit/debit)\n",
    "    - keeps the available balance updated\n",
    "- implements a good string representation for the instance (maybe something like `first_name last_name (account_number): balance`"
   ]
  },
  {
   "cell_type": "markdown",
   "id": "cultural-point",
   "metadata": {},
   "source": [
    "Feel free to expand on the minimum definition I have given here and enhance your custom class."
   ]
  },
  {
   "cell_type": "code",
   "execution_count": 53,
   "id": "9ed5be87",
   "metadata": {},
   "outputs": [
    {
     "name": "stderr",
     "output_type": "stream",
     "text": [
      "C:\\Users\\poaped10\\AppData\\Local\\Temp\\ipykernel_1900\\1076145586.py:47: DeprecationWarning: datetime.datetime.utcnow() is deprecated and scheduled for removal in a future version. Use timezone-aware objects to represent datetimes in UTC: datetime.datetime.now(datetime.UTC).\n",
      "  dt = datetime.utcnow()\n"
     ]
    }
   ],
   "source": [
    "from datetime import datetime\n",
    "\n",
    "class OverdraftNotAllowed(Exception):\n",
    "    \"\"\" Raise error for insuficient value if overdraft is now allowed \"\"\"\n",
    "\n",
    "class Acc:\n",
    "    def __init__(self, first_name, last_name, acc_num, initial_balance=0, allow_draft=False):\n",
    "        self._first_name = first_name\n",
    "        self._last_name = last_name\n",
    "        self._acc_num = acc_num\n",
    "        self._balance = initial_balance\n",
    "        self._ledger = []\n",
    "        self._allow_draft = allow_draft\n",
    "        self._make_ledger_entry(0, initial_balance)\n",
    "    \n",
    "    @property\n",
    "    def first_name(self):\n",
    "        return self._first_name\n",
    "    \n",
    "    @property\n",
    "    def last_name(self):\n",
    "        return self._last_name\n",
    "    \n",
    "    @property\n",
    "    def acc_num(self):\n",
    "        return self._acc_num\n",
    "    \n",
    "    @property\n",
    "    def balance(self):\n",
    "        return self._balance\n",
    "    \n",
    "    @property\n",
    "    def ledger(self):\n",
    "        return tuple(self._ledger)\n",
    "\n",
    "    @property\n",
    "    def allow_draft(self):\n",
    "        return self._allow_draft\n",
    "    \n",
    "    @allow_draft.setter\n",
    "    def allow_draft(self, value):\n",
    "        if isinstance(value, bool):\n",
    "            raise ValueError('Allowed values: True/False')\n",
    "        self._allow_draft = value\n",
    "    \n",
    "    def _make_ledger_entry(self, value, current_balance):\n",
    "        dt = datetime.utcnow()\n",
    "        self._ledger.append((dt, value, current_balance))\n",
    "    \n",
    "    def make_deposit(self, value):\n",
    "        if value <= 0:\n",
    "            raise ValueError(\"Negative values are not allowed\")\n",
    "        \n",
    "        self._make_ledger_entry(value, self.balance)\n",
    "        self._balance += value\n",
    "    \n",
    "    def make_withdraw(self, value):\n",
    "        if value <= 0:\n",
    "            raise ValueError(\"Negative values are not allowed\")\n",
    "        \n",
    "        if value > self.balance and not self.allow_draft:\n",
    "            raise OverdraftNotAllowed(f'Would overdraft for about: {self.balance - value}')\n",
    "        \n",
    "        self._make_ledger_entry(-value, self.balance)\n",
    "        self._balance -= value\n",
    "    \n",
    "    def __repr__(self):\n",
    "        return (\n",
    "            f'Acc num: ({self.acc_num})',\n",
    "            f'Acc name:  {self.last_name}',\n",
    "            f'Balance: {self.balance},',\n",
    "            f'Overdraft: {self.allow_draft},',\n",
    "            f'Transations: {len(self.ledger)}'\n",
    "        )\n",
    "\n",
    "    def __str__(self):\n",
    "        return f'{self.acc_num}: {self.balance}'\n",
    "\n",
    "acct = Acc('John', 'Smith', '123456', 0, True)"
   ]
  },
  {
   "cell_type": "code",
   "execution_count": 59,
   "id": "3dcff78c",
   "metadata": {},
   "outputs": [
    {
     "data": {
      "text/plain": [
       "((datetime.datetime(2024, 4, 9, 0, 39, 34, 31901), 0, 0),\n",
       " (datetime.datetime(2024, 4, 9, 0, 39, 38, 275735), -10, 0))"
      ]
     },
     "execution_count": 59,
     "metadata": {},
     "output_type": "execute_result"
    }
   ],
   "source": [
    "# acct.__repr__()\n",
    "acct.ledger"
   ]
  },
  {
   "cell_type": "code",
   "execution_count": 55,
   "id": "97119f6d",
   "metadata": {},
   "outputs": [
    {
     "name": "stderr",
     "output_type": "stream",
     "text": [
      "C:\\Users\\poaped10\\AppData\\Local\\Temp\\ipykernel_1900\\1076145586.py:47: DeprecationWarning: datetime.datetime.utcnow() is deprecated and scheduled for removal in a future version. Use timezone-aware objects to represent datetimes in UTC: datetime.datetime.now(datetime.UTC).\n",
      "  dt = datetime.utcnow()\n"
     ]
    }
   ],
   "source": [
    "try:\n",
    "    acct.make_withdraw(10)\n",
    "except OverdraftNotAllowed as ex:\n",
    "    print(f'OverdraftNotAllowed exception raised:', ex)"
   ]
  },
  {
   "cell_type": "code",
   "execution_count": 61,
   "id": "1af9bb40",
   "metadata": {},
   "outputs": [
    {
     "name": "stdout",
     "output_type": "stream",
     "text": [
      "Negative values are not allowed\n",
      "Negative values are not allowed\n"
     ]
    }
   ],
   "source": [
    "try:\n",
    "    acct.make_deposit(0)\n",
    "except ValueError as ex:\n",
    "    print(ex)\n",
    "    \n",
    "try:\n",
    "    acct.make_deposit(-1)\n",
    "except ValueError as ex:\n",
    "    print(ex)"
   ]
  },
  {
   "cell_type": "code",
   "execution_count": 63,
   "id": "e5557f2d",
   "metadata": {},
   "outputs": [
    {
     "name": "stdout",
     "output_type": "stream",
     "text": [
      "Negative values are not allowed\n",
      "Negative values are not allowed\n"
     ]
    }
   ],
   "source": [
    "try:\n",
    "    acct.make_withdraw(0)\n",
    "except ValueError as ex:\n",
    "    print(ex)\n",
    "    \n",
    "try:\n",
    "    acct.make_withdraw(-1)\n",
    "except ValueError as ex:\n",
    "    print(ex)"
   ]
  },
  {
   "cell_type": "code",
   "execution_count": 65,
   "id": "ec5f5bad",
   "metadata": {},
   "outputs": [
    {
     "name": "stdout",
     "output_type": "stream",
     "text": [
      "123456: -10\n"
     ]
    }
   ],
   "source": [
    "print(acct)"
   ]
  },
  {
   "cell_type": "markdown",
   "id": "weekly-working",
   "metadata": {},
   "source": [
    "#### Question 2"
   ]
  },
  {
   "cell_type": "markdown",
   "id": "accompanied-collaboration",
   "metadata": {},
   "source": [
    "Expand on your class above to implement equality (`==`) comparisons between instances of your class."
   ]
  },
  {
   "cell_type": "markdown",
   "id": "acceptable-creek",
   "metadata": {},
   "source": [
    "Two accounts should be considered equal if the account numbers are the same."
   ]
  },
  {
   "cell_type": "code",
   "execution_count": 100,
   "id": "ebc08259",
   "metadata": {},
   "outputs": [
    {
     "name": "stderr",
     "output_type": "stream",
     "text": [
      "C:\\Users\\poaped10\\AppData\\Local\\Temp\\ipykernel_1900\\1625316823.py:47: DeprecationWarning: datetime.datetime.utcnow() is deprecated and scheduled for removal in a future version. Use timezone-aware objects to represent datetimes in UTC: datetime.datetime.now(datetime.UTC).\n",
      "  dt = datetime.utcnow()\n"
     ]
    }
   ],
   "source": [
    "from datetime import datetime\n",
    "\n",
    "class OverdraftNotAllowed(Exception):\n",
    "    \"\"\" Raise error for insuficient value if overdraft is now allowed \"\"\"\n",
    "\n",
    "class Acc:\n",
    "    def __init__(self, first_name, last_name, acc_num, initial_balance=0, allow_draft=False):\n",
    "        self._first_name = first_name\n",
    "        self._last_name = last_name\n",
    "        self._acc_num = acc_num\n",
    "        self._balance = initial_balance\n",
    "        self._ledger = []\n",
    "        self._allow_draft = allow_draft\n",
    "        self._make_ledger_entry(0, initial_balance)\n",
    "    \n",
    "    @property\n",
    "    def first_name(self):\n",
    "        return self._first_name\n",
    "    \n",
    "    @property\n",
    "    def last_name(self):\n",
    "        return self._last_name\n",
    "    \n",
    "    @property\n",
    "    def acc_num(self):\n",
    "        return self._acc_num\n",
    "    \n",
    "    @property\n",
    "    def balance(self):\n",
    "        return self._balance\n",
    "    \n",
    "    @property\n",
    "    def ledger(self):\n",
    "        return tuple(self._ledger)\n",
    "\n",
    "    @property\n",
    "    def allow_draft(self):\n",
    "        return self._allow_draft\n",
    "    \n",
    "    @allow_draft.setter\n",
    "    def allow_draft(self, value):\n",
    "        if isinstance(value, bool):\n",
    "            raise ValueError('Allowed values: True/False')\n",
    "        self._allow_draft = value\n",
    "    \n",
    "    def _make_ledger_entry(self, value, current_balance):\n",
    "        dt = datetime.utcnow()\n",
    "        self._ledger.append((dt, value, current_balance))\n",
    "    \n",
    "    def make_deposit(self, value):\n",
    "        if value <= 0:\n",
    "            raise ValueError(\"Negative values are not allowed\")\n",
    "        \n",
    "        self._make_ledger_entry(value, self.balance)\n",
    "        self._balance += value\n",
    "    \n",
    "    def make_withdraw(self, value):\n",
    "        if value <= 0:\n",
    "            raise ValueError(\"Negative values are not allowed\")\n",
    "        \n",
    "        if value > self.balance and not self.allow_draft:\n",
    "            raise OverdraftNotAllowed(f'Would overdraft for about: {self.balance - value}')\n",
    "        \n",
    "        self._make_ledger_entry(-value, self.balance)\n",
    "        self._balance -= value\n",
    "    \n",
    "    def __repr__(self):\n",
    "        return (\n",
    "            f'Acc num: ({self.acc_num})',\n",
    "            f'Acc name:  {self.last_name}',\n",
    "            f'Balance: {self.balance},',\n",
    "            f'Overdraft: {self.allow_draft},',\n",
    "            f'Transations: {len(self.ledger)}'\n",
    "        )\n",
    "\n",
    "    def __str__(self):\n",
    "        return f'{self.acc_num}: {self.balance}'\n",
    "\n",
    "    def __eq__(self, other):\n",
    "        if isinstance(other, Acc):\n",
    "            return self.value == other.value and self.acc_num == other.acc_num\n",
    "        return False\n",
    "\n",
    "acct1 = Acc('Will', 'Smith', '3', 525)\n",
    "acct2 = Acc('Ana', 'Souza', '444552', 125455)"
   ]
  },
  {
   "cell_type": "code",
   "execution_count": 104,
   "id": "d4c9b13c",
   "metadata": {},
   "outputs": [
    {
     "name": "stderr",
     "output_type": "stream",
     "text": [
      "C:\\Users\\poaped10\\AppData\\Local\\Temp\\ipykernel_1900\\1625316823.py:47: DeprecationWarning: datetime.datetime.utcnow() is deprecated and scheduled for removal in a future version. Use timezone-aware objects to represent datetimes in UTC: datetime.datetime.now(datetime.UTC).\n",
      "  dt = datetime.utcnow()\n"
     ]
    },
    {
     "ename": "AttributeError",
     "evalue": "'Acc' object has no attribute 'value'",
     "output_type": "error",
     "traceback": [
      "\u001b[1;31m---------------------------------------------------------------------------\u001b[0m",
      "\u001b[1;31mAttributeError\u001b[0m                            Traceback (most recent call last)",
      "Cell \u001b[1;32mIn[104], line 4\u001b[0m\n\u001b[0;32m      1\u001b[0m acct1 \u001b[38;5;241m=\u001b[39m Acc(\u001b[38;5;124m'\u001b[39m\u001b[38;5;124mf1\u001b[39m\u001b[38;5;124m'\u001b[39m, \u001b[38;5;124m'\u001b[39m\u001b[38;5;124ml1\u001b[39m\u001b[38;5;124m'\u001b[39m, \u001b[38;5;124m'\u001b[39m\u001b[38;5;124m123\u001b[39m\u001b[38;5;124m'\u001b[39m)\n\u001b[0;32m      2\u001b[0m acct2 \u001b[38;5;241m=\u001b[39m Acc(\u001b[38;5;124m'\u001b[39m\u001b[38;5;124mf2\u001b[39m\u001b[38;5;124m'\u001b[39m, \u001b[38;5;124m'\u001b[39m\u001b[38;5;124ml2\u001b[39m\u001b[38;5;124m'\u001b[39m, \u001b[38;5;124m'\u001b[39m\u001b[38;5;124m123\u001b[39m\u001b[38;5;124m'\u001b[39m)\n\u001b[1;32m----> 4\u001b[0m \u001b[43macct1\u001b[49m\u001b[43m \u001b[49m\u001b[38;5;241;43m==\u001b[39;49m\u001b[43m \u001b[49m\u001b[43macct2\u001b[49m\n",
      "Cell \u001b[1;32mIn[100], line 81\u001b[0m, in \u001b[0;36mAcc.__eq__\u001b[1;34m(self, other)\u001b[0m\n\u001b[0;32m     79\u001b[0m \u001b[38;5;28;01mdef\u001b[39;00m \u001b[38;5;21m__eq__\u001b[39m(\u001b[38;5;28mself\u001b[39m, other):\n\u001b[0;32m     80\u001b[0m     \u001b[38;5;28;01mif\u001b[39;00m \u001b[38;5;28misinstance\u001b[39m(other, Acc):\n\u001b[1;32m---> 81\u001b[0m         \u001b[38;5;28;01mreturn\u001b[39;00m \u001b[38;5;28;43mself\u001b[39;49m\u001b[38;5;241;43m.\u001b[39;49m\u001b[43mvalue\u001b[49m \u001b[38;5;241m==\u001b[39m other\u001b[38;5;241m.\u001b[39mvalue \u001b[38;5;129;01mand\u001b[39;00m \u001b[38;5;28mself\u001b[39m\u001b[38;5;241m.\u001b[39macc_num \u001b[38;5;241m==\u001b[39m other\u001b[38;5;241m.\u001b[39macc_num\n\u001b[0;32m     82\u001b[0m     \u001b[38;5;28;01mreturn\u001b[39;00m \u001b[38;5;28;01mFalse\u001b[39;00m\n",
      "\u001b[1;31mAttributeError\u001b[0m: 'Acc' object has no attribute 'value'"
     ]
    }
   ],
   "source": [
    "acct1 = Acc('f1', 'l1', '123')\n",
    "acct2 = Acc('f2', 'l2', '123')\n",
    "\n",
    "acct1 == acct2"
   ]
  }
 ],
 "metadata": {
  "kernelspec": {
   "display_name": "Python 3",
   "language": "python",
   "name": "python3"
  },
  "language_info": {
   "codemirror_mode": {
    "name": "ipython",
    "version": 3
   },
   "file_extension": ".py",
   "mimetype": "text/x-python",
   "name": "python",
   "nbconvert_exporter": "python",
   "pygments_lexer": "ipython3",
   "version": "3.12.2"
  }
 },
 "nbformat": 4,
 "nbformat_minor": 5
}
