{
 "cells": [
  {
   "cell_type": "markdown",
   "id": "tight-homework",
   "metadata": {},
   "source": [
    "### Exercises"
   ]
  },
  {
   "cell_type": "markdown",
   "id": "focused-phone",
   "metadata": {},
   "source": [
    "#### Question 1"
   ]
  },
  {
   "cell_type": "markdown",
   "id": "accomplished-livestock",
   "metadata": {},
   "source": [
    "We want to write a function that can find an approximate maximum or minimum of some given function over some given range."
   ]
  },
  {
   "cell_type": "markdown",
   "id": "exempt-heater",
   "metadata": {},
   "source": [
    "For example, given some function:\n",
    "\n",
    "```\n",
    "f(x) = x**2 - 1\n",
    "```\n",
    "\n",
    "our function should return an approximate minimum (or maximum) of `f` over some given range, say `[-5, 5]`."
   ]
  },
  {
   "cell_type": "markdown",
   "id": "closing-belle",
   "metadata": {},
   "source": [
    "We'll do this by essentially splitting our intervals into `n` points (what I'll call the `resolution`), evaluating the function at each of these points, and returning either the min or the max."
   ]
  },
  {
   "cell_type": "markdown",
   "id": "comfortable-aviation",
   "metadata": {},
   "source": [
    "We want this function to be generic, so it should have the following parameters:\n",
    "- a function of one variable\n",
    "- a range of values defined by start/end values\n",
    "- a value indicating the \"resolution\"\n",
    "- a value indicating whether we want the min or the max"
   ]
  },
  {
   "cell_type": "code",
   "execution_count": 19,
   "id": "da91edd2",
   "metadata": {},
   "outputs": [
    {
     "name": "stdout",
     "output_type": "stream",
     "text": [
      "\n",
      "Minimum for Function 1: -0.9998997996995995\n",
      "Minimum for Function 1: 0.008008008008008716\n",
      "Minimum for Function 1: -0.9999996994977832\n",
      "\n"
     ]
    }
   ],
   "source": [
    "import math\n",
    "\n",
    "# Dummy functions for later test\n",
    "func_1 = lambda x: x ** 2 - 1\n",
    "func_2 = lambda x: abs(x - 2)\n",
    "func_3 = lambda x:math.sin(x)\n",
    "\n",
    "# Find out min/max out of range\n",
    "def find_extreme(func, start= -10, end= 10, res = 1_000, is_min = True):\n",
    "    delta = (end - start) / (res - 1)\n",
    "    data = [start + i * delta for i in range(res)]\n",
    "    f_values = map(func, data)\n",
    "    min_max = min if is_min else max\n",
    "    result = min_max(f_values)\n",
    "    return result\n",
    "\n",
    "# Output for each function\n",
    "print(f'\\nMinimum for Function 1: {find_extreme(func_1):.4f}')\n",
    "print(f'Minimum for Function 1: {find_extreme(func_2):.4f}')\n",
    "print(f'Minimum for Function 1: {find_extreme(func_3):.4f}\\n')"
   ]
  },
  {
   "cell_type": "markdown",
   "id": "fiscal-exclusive",
   "metadata": {},
   "source": [
    "#### Question 2"
   ]
  },
  {
   "cell_type": "markdown",
   "id": "tribal-irrigation",
   "metadata": {},
   "source": [
    "You are given a function of two variables, and a list of tuples containing the values for the two variables."
   ]
  },
  {
   "cell_type": "markdown",
   "id": "guilty-opposition",
   "metadata": {},
   "source": [
    "Create a list that is the result of calling the function on each values in the list, using three different techniques:\n",
    "- a `for` loop\n",
    "- a list comprehension\n",
    "- the `map` function\n",
    "\n",
    "Use the `timeit` function to time each approach.\n",
    "\n",
    "Hint: write a function that implements each approach, and then time calling those functions using the `timeit` function (`from timeit import timeit` - we've used it before). Also you will want to specify `number=10` or something like that when you run `timeit` - unless you want to sit there watvhing your screen for quite a while :-)"
   ]
  },
  {
   "cell_type": "code",
   "execution_count": 48,
   "id": "prompt-investigator",
   "metadata": {},
   "outputs": [
    {
     "name": "stdout",
     "output_type": "stream",
     "text": [
      "For approach: [0.0, 1.4142135623730951, 22.360679774997898, 4.154354402313313]\n",
      "Comprehension approach: [0.0, 1.4142135623730951, 22.360679774997898, 4.154354402313313]\n",
      "Map approach: [0.0, 1.4142135623730951, 22.360679774997898, 4.154354402313313]\n",
      "\n",
      "For time: 1.2999997125007212e-05\n",
      "Comprehension time: 1.0099996870849282e-05\n",
      "For time: 1.1300006008241326e-05\n",
      "\n"
     ]
    }
   ],
   "source": [
    "import math\n",
    "from timeit import timeit\n",
    "\n",
    "def func(point):\n",
    "    # expect point to be a sequence of two values\n",
    "    x, y = point\n",
    "    return math.hypot(x, y)  \n",
    "    # hypot is a function that calculates sqrt(x**2 + y**2), given a sequence (x, y)\n",
    "\n",
    "# Comprehension approach\n",
    "def comprehension_approach(variable):\n",
    "    return f'Some output'\n",
    "\n",
    "# Map approach\n",
    "def map_approach(variable):\n",
    "    return f'Some output'\n",
    "\n",
    "points = [\n",
    "    (0, 0),\n",
    "    (1, 1),\n",
    "    (10, 20),\n",
    "    (math.pi, math.e)\n",
    "]\n",
    "\n",
    "# For approach\n",
    "def for_op(func, points):\n",
    "    results = []\n",
    "    for point in points:\n",
    "        results.append(func(point))\n",
    "    return results\n",
    "\n",
    "# Comprehension approach\n",
    "def comp_op(func, points):\n",
    "    results = [func(point) for point in points]\n",
    "    return results\n",
    "\n",
    "# Map approach\n",
    "def map_op(func, points):\n",
    "    results = list(map(func, points))\n",
    "    return results\n",
    "\n",
    "# Output validation\n",
    "print(f'For approach: {map_op(func, points)}')\n",
    "print(f'Comprehension approach: {comp_op(func, points)}')\n",
    "print(f'Map approach: {map_op(func, points)}\\n')\n",
    "\n",
    "# Performance validation\n",
    "for_time = timeit('for_op(func, points)', globals=globals(), number=10)\n",
    "comp_time = timeit('comp_op(func, points)', globals=globals(), number=10)\n",
    "map_time = timeit('for_op(func, points)', globals=globals(), number=10)\n",
    "\n",
    "# Performance output\n",
    "print(f'For time: {for_time}')\n",
    "print(f'Comprehension time: {comp_time}')\n",
    "print(f'For time: {map_time}\\n')"
   ]
  },
  {
   "cell_type": "markdown",
   "id": "tutorial-absolute",
   "metadata": {},
   "source": [
    "Your result for `points` should be:\n",
    "\n",
    "```\n",
    "[0.0, 1.4142135623730951, 22.360679774997898, 4.154354402313314]\n",
    "```"
   ]
  },
  {
   "cell_type": "markdown",
   "id": "digital-september",
   "metadata": {},
   "source": [
    "For timing purposes, use a larger set of points, like this one:"
   ]
  },
  {
   "cell_type": "code",
   "execution_count": 2,
   "id": "informal-equality",
   "metadata": {},
   "outputs": [],
   "source": [
    "points_large = [(math.sin(x), math.cos(x)) for x in range(1, 1_000_000)]"
   ]
  },
  {
   "cell_type": "markdown",
   "id": "caroline-analysis",
   "metadata": {},
   "source": [
    "#### Question 3"
   ]
  },
  {
   "cell_type": "markdown",
   "id": "special-stuart",
   "metadata": {},
   "source": [
    "Write a function that returns a function with all arguments, except the first one, prefilled with certain values provided to the outer function."
   ]
  },
  {
   "cell_type": "markdown",
   "id": "becoming-civilization",
   "metadata": {},
   "source": [
    "(This is sometimes called a partial function)."
   ]
  },
  {
   "cell_type": "markdown",
   "id": "solar-watson",
   "metadata": {},
   "source": [
    "For example, we may have some functions such as:"
   ]
  },
  {
   "cell_type": "code",
   "execution_count": 3,
   "id": "divine-brand",
   "metadata": {},
   "outputs": [],
   "source": [
    "import math"
   ]
  },
  {
   "cell_type": "code",
   "execution_count": 4,
   "id": "saving-hazard",
   "metadata": {},
   "outputs": [],
   "source": [
    "def power(x, n):\n",
    "    return x ** n"
   ]
  },
  {
   "cell_type": "code",
   "execution_count": 5,
   "id": "requested-mathematics",
   "metadata": {},
   "outputs": [],
   "source": [
    "def dist(pt1, pt2):\n",
    "    return math.sqrt(sum(coord_1 - coord_2 for coord_1, coord_2 in zip(pt1, pt2)))"
   ]
  },
  {
   "cell_type": "markdown",
   "id": "hungry-aberdeen",
   "metadata": {},
   "source": [
    "Or even functions already defined, such as:\n",
    "\n",
    "```\n",
    "math.gcd(a, b)\n",
    "```\n",
    "or\n",
    "```\n",
    "math.log(x, base)\n",
    "```"
   ]
  },
  {
   "cell_type": "markdown",
   "id": "entitled-denver",
   "metadata": {},
   "source": [
    "We want to to be able to generate new functions, based on these ones (`power`, `dist`, `gcd`, `log`) but with all the values except the first one prefilled, for example, assuming our function is named `partial`, we can use it to define new functions this way:"
   ]
  },
  {
   "cell_type": "markdown",
   "id": "first-velvet",
   "metadata": {},
   "source": [
    "```\n",
    "squares = partial(power, 2)\n",
    "dist_from_origin = partial(dist, (0, 0))\n",
    "gcd_13 = partial(math.gcd, 13)\n",
    "log_2 = partial(math.log, 2)\n",
    "log_10 = partial(math.log, 10)\n",
    "log_16 = partial(math.log, 16)\n",
    "```"
   ]
  },
  {
   "cell_type": "markdown",
   "id": "gentle-monitor",
   "metadata": {},
   "source": [
    "Then when we call our new functions, we just pass in the value for the first argument, i.e."
   ]
  },
  {
   "cell_type": "markdown",
   "id": "bridal-scenario",
   "metadata": {},
   "source": [
    "```\n",
    "squares(3) --> 9\n",
    "squares(4) --> 16\n",
    "dist_from_origin((1, 1)) --> 1.414\n",
    "log_2(10) --> 3.3219\n",
    "log_10(10) --> 1.0\n",
    "log_16(10) --> 0.8304\n",
    "```"
   ]
  },
  {
   "cell_type": "code",
   "execution_count": 35,
   "id": "e48d6d61",
   "metadata": {},
   "outputs": [
    {
     "name": "stdout",
     "output_type": "stream",
     "text": [
      "              squares(4): 16\n",
      "dist_from_origin((1, 1)): 1.4142135623730951\n",
      "             gcd_13(169): 13\n",
      "               log_2(10): 3.3219280948873626\n",
      "              log_10(10): 1.0\n",
      "              log_16(10): 0.8304820237218407\n"
     ]
    }
   ],
   "source": [
    "import math\n",
    "\n",
    "def power(x, n):\n",
    "    return x ** n\n",
    "\n",
    "def dist(pt1, pt2):\n",
    "    return math.sqrt(sum(coord_1 - coord_2 for coord_1, coord_2 in zip(pt1, pt2)))\n",
    "\n",
    "def outter_func(f, *args, **kwargs):\n",
    "    def inner_func(first_arg):\n",
    "        return f(first_arg, *args, *kwargs)\n",
    "    return inner_func\n",
    "\n",
    "squares = outter_func(power, 2)\n",
    "dist_origin = outter_func(dist, (0, 0))\n",
    "gcd_13 = outter_func(math.gcd, 13)\n",
    "log_2 = outter_func(math.log, 2)\n",
    "log_10 = outter_func(math.log, 10)\n",
    "log_16 = outter_func(math.log, 16)\n",
    "\n",
    "print(f'         squares(4): {squares(4)}')\n",
    "print(f'dist_origin((1, 1)): {dist_origin((1, 1))}')\n",
    "print(f'        gcd_13(169): {gcd_13(169)}')\n",
    "print(f'          log_2(10): {log_2(10)}')\n",
    "print(f'         log_10(10): {log_10(10)}')\n",
    "print(f'         log_16(10): {log_16(10)}')"
   ]
  },
  {
   "cell_type": "markdown",
   "id": "cleared-watson",
   "metadata": {},
   "source": [
    "#### Question 4"
   ]
  },
  {
   "cell_type": "markdown",
   "id": "registered-moscow",
   "metadata": {},
   "source": [
    "Write a function that can be used to not only execute another function with specified arguments, but print a \"log\" (basically just print to the console\", of how long it took to execute the function."
   ]
  },
  {
   "cell_type": "markdown",
   "id": "invisible-elephant",
   "metadata": {},
   "source": [
    "For example, given some functions like this:"
   ]
  },
  {
   "cell_type": "code",
   "execution_count": 6,
   "id": "prerequisite-allergy",
   "metadata": {},
   "outputs": [],
   "source": [
    "def norm(x, y):\n",
    "    return math.sqrt(x**2 + y**2)\n",
    "\n",
    "def find_index_min(seq):\n",
    "    min_ = min(seq)\n",
    "    return seq.index(min_)"
   ]
  },
  {
   "cell_type": "markdown",
   "id": "heavy-police",
   "metadata": {},
   "source": [
    "Then assuming your logging function is called `logged`, you could create logged functions this way:"
   ]
  },
  {
   "cell_type": "code",
   "execution_count": 7,
   "id": "liquid-divide",
   "metadata": {},
   "outputs": [],
   "source": [
    "def logged(f):\n",
    "    # implement this\n",
    "    pass"
   ]
  },
  {
   "cell_type": "code",
   "execution_count": 8,
   "id": "measured-packaging",
   "metadata": {},
   "outputs": [],
   "source": [
    "norm_logged = logged(norm)\n",
    "find_index_min_logged = logged(find_index_min)"
   ]
  },
  {
   "cell_type": "markdown",
   "id": "czech-husband",
   "metadata": {},
   "source": [
    "You would then be able to call `norm_logged` with some arguments, or `find_index_min_logged` with some arguments, and not only get the actual result back, but also see an output to the console that tells you how long the function took to run."
   ]
  }
 ],
 "metadata": {
  "kernelspec": {
   "display_name": "Python 3",
   "language": "python",
   "name": "python3"
  },
  "language_info": {
   "codemirror_mode": {
    "name": "ipython",
    "version": 3
   },
   "file_extension": ".py",
   "mimetype": "text/x-python",
   "name": "python",
   "nbconvert_exporter": "python",
   "pygments_lexer": "ipython3",
   "version": "3.12.0"
  }
 },
 "nbformat": 4,
 "nbformat_minor": 5
}
