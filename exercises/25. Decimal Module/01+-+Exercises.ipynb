{
 "cells": [
  {
   "cell_type": "markdown",
   "id": "material-george",
   "metadata": {},
   "source": [
    "### Exercises"
   ]
  },
  {
   "cell_type": "markdown",
   "id": "conscious-reform",
   "metadata": {},
   "source": [
    "### Question 1"
   ]
  },
  {
   "cell_type": "markdown",
   "id": "filled-payroll",
   "metadata": {},
   "source": [
    "There is a file named `transactions.csv` which is a list of purchases and sales."
   ]
  },
  {
   "cell_type": "markdown",
   "id": "invalid-silence",
   "metadata": {},
   "source": [
    "Write code that loads this data and calculates the total of these purchases and sales."
   ]
  },
  {
   "cell_type": "markdown",
   "id": "human-requirement",
   "metadata": {},
   "source": [
    "Take two approaches - one using floats, and one using Decimal objects. Calculate the difference between the two results."
   ]
  },
  {
   "cell_type": "markdown",
   "id": "irish-fleet",
   "metadata": {},
   "source": [
    "Also, time how long it takes to run your code using floats and using Decimals."
   ]
  },
  {
   "cell_type": "code",
   "execution_count": 1,
   "id": "9c8bf82d",
   "metadata": {},
   "outputs": [
    {
     "name": "stdout",
     "output_type": "stream",
     "text": [
      "timestamp,account,amount\n",
      "2020-11-03T02:01:50,6136306,-11.022038\n",
      "2020-06-19T07:32:00,3369009,-56.825416\n",
      "2021-01-29T13:29:17,4366765,-87.430871\n",
      "2020-03-31T09:27:11,3298760,16.161836\n",
      "2021-01-01T16:05:22,6136306,38.132664\n",
      "2020-04-06T02:08:50,3369009,-50.402044\n",
      "2020-01-24T09:28:10,2315918,-29.852735\n"
     ]
    }
   ],
   "source": [
    "with open('transactions.csv') as f:\n",
    "    for _ in range(8):\n",
    "        print(next(f).strip())"
   ]
  },
  {
   "cell_type": "code",
   "execution_count": 13,
   "id": "1b11bee4",
   "metadata": {},
   "outputs": [
    {
     "name": "stdout",
     "output_type": "stream",
     "text": [
      "Decimal: -12.07776\n",
      "Elapsed: 0.815370600001188\n"
     ]
    }
   ],
   "source": [
    "import csv\n",
    "from time import perf_counter\n",
    "from decimal import Decimal\n",
    "\n",
    "def total_sum(file_name, * , dec=False):\n",
    "\n",
    "    sum_total = 0\n",
    "\n",
    "    with open(file_name) as f:\n",
    "        reader = csv.reader(f)\n",
    "        next(f)\n",
    "\n",
    "        for row in reader:\n",
    "            amount = row[-1]\n",
    "\n",
    "        if dec:\n",
    "            sum_total += Decimal(amount)\n",
    "        else:\n",
    "            sum_total += float(amount)\n",
    "        \n",
    "    return sum_total\n",
    "\n",
    "trans = './transactions.csv'\n",
    "\n",
    "start = perf_counter()\n",
    "print(f'Decimal: {total_sum(trans, dec=True)}')\n",
    "# print(f'Float: {total_sum(trans)}')\n",
    "end = perf_counter()\n",
    "elapsed = end - start\n",
    "print(f'Elapsed: {elapsed}')"
   ]
  },
  {
   "cell_type": "code",
   "execution_count": 26,
   "id": "146e2f35",
   "metadata": {},
   "outputs": [
    {
     "name": "stdout",
     "output_type": "stream",
     "text": [
      "Total: 116387.513065\n",
      "Elapsed: 1.169792699998652\n"
     ]
    }
   ],
   "source": [
    "import csv\n",
    "from time import perf_counter\n",
    "from decimal import Decimal\n",
    "\n",
    "def total_sum(file_name, * , dec=False):\n",
    "\n",
    "    amounts = []\n",
    "\n",
    "    with open(file_name) as f:\n",
    "        reader = csv.reader(f)\n",
    "        next(f)\n",
    "\n",
    "        for row in reader:\n",
    "            amounts.append(float(row[-1]))\n",
    "        \n",
    "    return sum(amounts)\n",
    "\n",
    "trans = './transactions.csv'\n",
    "\n",
    "start = perf_counter()\n",
    "print(f'Total: {total_sum(trans)}')\n",
    "end = perf_counter()\n",
    "elapsed = end - start\n",
    "print(f'Elapsed: {elapsed}')"
   ]
  },
  {
   "cell_type": "markdown",
   "id": "united-snowboard",
   "metadata": {},
   "source": [
    "### Question 2"
   ]
  },
  {
   "cell_type": "markdown",
   "id": "simple-diary",
   "metadata": {},
   "source": [
    "Using the same file (`transactions.csv`), we now want to calculate a fee on each transaction."
   ]
  },
  {
   "cell_type": "markdown",
   "id": "decimal-williams",
   "metadata": {},
   "source": [
    "Irrespective of whether the transaction was a credit or a debit, we will calculate a `0.123%` transaction fee for the (absolute) values of each transaction."
   ]
  },
  {
   "cell_type": "markdown",
   "id": "brown-finish",
   "metadata": {},
   "source": [
    "**Each** fee calculation precision should be limited to `8` digits after the decimal point (so use `round(val, 8)`)"
   ]
  },
  {
   "cell_type": "markdown",
   "id": "postal-textbook",
   "metadata": {},
   "source": [
    "In addition, any rounding should always round ties away from `0` (`ROUND_HALF_UP`) - and not use Banker's rounding (`ROUND_HALF_EVEN`)."
   ]
  },
  {
   "cell_type": "markdown",
   "id": "undefined-treasure",
   "metadata": {},
   "source": [
    "Only implement this solution using `Decimal` objects, as floats do not offer a rounding algorithm choice, and writing our own rounding algorithm can be overly complicated."
   ]
  },
  {
   "cell_type": "markdown",
   "id": "convenient-hanging",
   "metadata": {},
   "source": [
    "Also calculate the different in the fee totals when using `ROUND_HALF_UP` vs `ROUND_HALF_EVEN`"
   ]
  },
  {
   "cell_type": "code",
   "execution_count": 16,
   "id": "afc71d5b",
   "metadata": {},
   "outputs": [
    {
     "data": {
      "text/plain": [
       "Decimal('0.00001017')"
      ]
     },
     "execution_count": 16,
     "metadata": {},
     "output_type": "execute_result"
    }
   ],
   "source": [
    "import decimal\n",
    "\n",
    "def fee_sum(file_name, *, fee='0.00123', round_meth=decimal.ROUND_HALF_UP, digits=8):\n",
    "    with decimal.localcontext() as ctx:\n",
    "        ctx.rounding = round_meth\n",
    "\n",
    "        fee = Decimal(fee)\n",
    "        total = 0\n",
    "\n",
    "        with open(file_name) as f:\n",
    "            reader = csv.reader(f)\n",
    "            next(f)\n",
    "\n",
    "            for row in reader:\n",
    "                amount = row[-1]\n",
    "                amount = Decimal(amount)\n",
    "                fee_val = round(abs(fee * amount), digits)\n",
    "                total += fee_val\n",
    "\n",
    "        return total\n",
    "\n",
    "file = './transactions.csv'\n",
    "\n",
    "half_up = fee_sum(file, round_meth=decimal.ROUND_HALF_UP)\n",
    "half_even = fee_sum(file, round_meth=decimal.ROUND_HALF_EVEN)\n",
    "difference = half_up - half_even\n",
    "difference"
   ]
  }
 ],
 "metadata": {
  "kernelspec": {
   "display_name": "Python 3",
   "language": "python",
   "name": "python3"
  },
  "language_info": {
   "codemirror_mode": {
    "name": "ipython",
    "version": 3
   },
   "file_extension": ".py",
   "mimetype": "text/x-python",
   "name": "python",
   "nbconvert_exporter": "python",
   "pygments_lexer": "ipython3",
   "version": "3.12.2"
  }
 },
 "nbformat": 4,
 "nbformat_minor": 5
}
