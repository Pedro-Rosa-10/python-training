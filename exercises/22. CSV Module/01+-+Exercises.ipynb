{
 "cells": [
  {
   "cell_type": "markdown",
   "id": "sustainable-listening",
   "metadata": {},
   "source": [
    "### Exercises"
   ]
  },
  {
   "cell_type": "markdown",
   "id": "apparent-romance",
   "metadata": {},
   "source": [
    "#### Question 1"
   ]
  },
  {
   "cell_type": "markdown",
   "id": "engaged-audience",
   "metadata": {},
   "source": [
    "Alongside this note book, four CSV files are specified (one is in fact a TSV file)."
   ]
  },
  {
   "cell_type": "markdown",
   "id": "satisfactory-greensboro",
   "metadata": {},
   "source": [
    "For each file, load it using the CSV module, and find the smallest and largest numbers in the data."
   ]
  },
  {
   "cell_type": "markdown",
   "id": "electoral-pathology",
   "metadata": {},
   "source": [
    "All these files contain just lists of numbers - with the exception of a possible header row"
   ]
  },
  {
   "cell_type": "code",
   "execution_count": 182,
   "id": "69a38751",
   "metadata": {},
   "outputs": [
    {
     "name": "stdout",
     "output_type": "stream",
     "text": [
      "./file1.csv:\n",
      "col1,col2,col3\n",
      "10,20,30\n",
      "30,40,50\n",
      "60,70,80\n",
      "\n",
      "Smallest/largest: (10, 80)\n"
     ]
    }
   ],
   "source": [
    "# file1.csv\n",
    "import csv\n",
    "file = './file1.csv'\n",
    "print(f'{file}:')\n",
    "\n",
    "with open(file) as f:\n",
    "    for row in f:\n",
    "        print(row, end='')\n",
    "\n",
    "def min_max(file):\n",
    "    with open(file) as f:\n",
    "        reader = csv.reader(f, delimiter=',')\n",
    "        next(reader)\n",
    "        data = []\n",
    "        for row in reader:\n",
    "            for element in row:\n",
    "                data.append(element)\n",
    "    \n",
    "    return int(min(data)), int(max(data))\n",
    "\n",
    "print('\\n')\n",
    "print(f'Smallest/largest: {min_max(file)}')"
   ]
  },
  {
   "cell_type": "code",
   "execution_count": 201,
   "id": "2596a00c",
   "metadata": {},
   "outputs": [
    {
     "name": "stdout",
     "output_type": "stream",
     "text": [
      "./file2.csv:\n",
      "1, 3.14, 500\n",
      "20, 1, -2\n",
      "-1.1, -2.2, -3.3\n",
      "\n",
      "Smallest/largest: (-3.3, 500.0)\n"
     ]
    }
   ],
   "source": [
    "# file2.csv\n",
    "import csv\n",
    "file = './file2.csv'\n",
    "print(f'{file}:')\n",
    "\n",
    "with open(file) as f:\n",
    "    for row in f:\n",
    "        print(row.strip())\n",
    "\n",
    "with open(file) as f:\n",
    "    reader = csv.reader(f)\n",
    "    data = list(reader)\n",
    "    data = [[float(x) for x in row] for row in data]\n",
    "\n",
    "def min_max(data):\n",
    "    row_maxes = [max(row) for row in data]\n",
    "    row_mins = [min(row) for row in data]\n",
    "    \n",
    "    max_ = max(row_maxes)\n",
    "    min_ = min(row_mins)\n",
    "    return min_, max_\n",
    "\n",
    "print('')\n",
    "print(f'Smallest/largest: {min_max(data)}')"
   ]
  },
  {
   "cell_type": "code",
   "execution_count": 207,
   "id": "ba22fff9",
   "metadata": {},
   "outputs": [
    {
     "name": "stdout",
     "output_type": "stream",
     "text": [
      "./file3.tsv:\n",
      "col1\tcol2\tcol3\n",
      "10\t20\t30\n",
      "40\t50\t60\n",
      "100\t200\t300\n",
      "\n",
      "Smallest/largest: (10, 300)\n"
     ]
    }
   ],
   "source": [
    "# file2.csv\n",
    "import csv\n",
    "file = './file3.tsv'\n",
    "print(f'{file}:')\n",
    "\n",
    "with open(file) as f:\n",
    "    for row in f:\n",
    "        print(row.strip())\n",
    "\n",
    "with open(file) as f:\n",
    "    reader = csv.reader(f, delimiter='\\t')\n",
    "    next(reader)\n",
    "    data = list(reader)\n",
    "    data = [[int(x) for x in row] for row in data]\n",
    "\n",
    "def min_max(data):\n",
    "    row_maxes = [max(row) for row in data]\n",
    "    row_mins = [min(row) for row in data]\n",
    "    \n",
    "    max_ = max(row_maxes)\n",
    "    min_ = min(row_mins)\n",
    "    return min_, max_\n",
    "\n",
    "print('')\n",
    "print(f'Smallest/largest: {min_max(data)}')"
   ]
  },
  {
   "cell_type": "code",
   "execution_count": 211,
   "id": "00e48a5c",
   "metadata": {},
   "outputs": [
    {
     "name": "stdout",
     "output_type": "stream",
     "text": [
      "./file4.csv:\n",
      "-col1-|-col2-|-col3-\n",
      "10|20|30\n",
      "-3.14-|-25-|-100-\n",
      "---3.14-|20|-30-\n",
      "\n",
      "Smallest/largest: (-3.14, 100.0)\n"
     ]
    }
   ],
   "source": [
    "# file2.csv\n",
    "import csv\n",
    "file = './file4.csv'\n",
    "print(f'{file}:')\n",
    "\n",
    "with open(file) as f:\n",
    "    for row in f:\n",
    "        print(row.strip())\n",
    "\n",
    "with open(file) as f:\n",
    "    reader = csv.reader(f, delimiter='|', quotechar='-')\n",
    "    next(reader)\n",
    "    data = list(reader)\n",
    "    data = [[float(x) for x in row] for row in data]\n",
    "\n",
    "def min_max(data):\n",
    "    row_maxes = [max(row) for row in data]\n",
    "    row_mins = [min(row) for row in data]\n",
    "    \n",
    "    max_ = max(row_maxes)\n",
    "    min_ = min(row_mins)\n",
    "    return min_, max_\n",
    "\n",
    "print('')\n",
    "print(f'Smallest/largest: {min_max(data)}')"
   ]
  },
  {
   "cell_type": "markdown",
   "id": "annoying-anime",
   "metadata": {},
   "source": [
    "#### Question 2"
   ]
  },
  {
   "cell_type": "markdown",
   "id": "wooden-hunter",
   "metadata": {},
   "source": [
    "Given this data structure consisting of a list of dictionaries, write a function that will write this data out to a file, where the column headers (in the first row) are based on the dictionary keys, and the values are flattened out to one row per dictionary (under the corresponding column header)."
   ]
  },
  {
   "cell_type": "markdown",
   "id": "minus-flower",
   "metadata": {},
   "source": [
    "Note that not all dictionaries contain all the same keys, nor are the keys necessarily in the same order when present."
   ]
  },
  {
   "cell_type": "markdown",
   "id": "adverse-sussex",
   "metadata": {},
   "source": [
    "For \"missing\" values, your function should just write an empty string."
   ]
  },
  {
   "cell_type": "markdown",
   "id": "pursuant-cheese",
   "metadata": {},
   "source": [
    "For example, given this `data`:"
   ]
  },
  {
   "cell_type": "code",
   "execution_count": 24,
   "id": "incorporate-marijuana",
   "metadata": {},
   "outputs": [],
   "source": [
    "data = [\n",
    "    {'a': '1_a', 'b': '1_b', 'c': '1_c'},\n",
    "    {'c': '2_c', 'd': '2_d'},\n",
    "    {'a': '3_a', 'c': '3_c', 'e': '3_e'}\n",
    "]"
   ]
  },
  {
   "cell_type": "raw",
   "id": "olive-alcohol",
   "metadata": {},
   "source": [
    "Your output file should look like this:"
   ]
  },
  {
   "cell_type": "markdown",
   "id": "immune-aside",
   "metadata": {},
   "source": [
    "```\n",
    "a,b,c,d,e\n",
    "1_a,1_b,1_c,,,\n",
    ",,2_c,2_d,\n",
    "3_a,,3_c,,3_e\n",
    "```"
   ]
  },
  {
   "cell_type": "markdown",
   "id": "atmospheric-engine",
   "metadata": {},
   "source": [
    "The order of the columns and rows is not important - as long as they match up with respective column headers."
   ]
  }
 ],
 "metadata": {
  "kernelspec": {
   "display_name": "Python 3",
   "language": "python",
   "name": "python3"
  },
  "language_info": {
   "codemirror_mode": {
    "name": "ipython",
    "version": 3
   },
   "file_extension": ".py",
   "mimetype": "text/x-python",
   "name": "python",
   "nbconvert_exporter": "python",
   "pygments_lexer": "ipython3",
   "version": "3.12.2"
  }
 },
 "nbformat": 4,
 "nbformat_minor": 5
}
