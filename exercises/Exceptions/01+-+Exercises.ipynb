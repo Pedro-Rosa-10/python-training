{
 "cells": [
  {
   "cell_type": "markdown",
   "id": "enclosed-distance",
   "metadata": {},
   "source": [
    "### Solutions"
   ]
  },
  {
   "cell_type": "markdown",
   "id": "metric-checkout",
   "metadata": {},
   "source": [
    "#### Question 1"
   ]
  },
  {
   "cell_type": "markdown",
   "id": "stunning-accident",
   "metadata": {},
   "source": [
    "The following code is meant to calculate the smallest absolute value of a given sequence of numbers."
   ]
  },
  {
   "cell_type": "code",
   "execution_count": 19,
   "id": "affiliated-decade",
   "metadata": {},
   "outputs": [
    {
     "ename": "IndexError",
     "evalue": "list index out of range",
     "output_type": "error",
     "traceback": [
      "\u001b[1;31m---------------------------------------------------------------------------\u001b[0m",
      "\u001b[1;31mIndexError\u001b[0m                                Traceback (most recent call last)",
      "\u001b[1;32mc:\\GitHub\\python-training\\exercises\\Exceptions\\01+-+Exercises.ipynb Cell 4\u001b[0m line \u001b[0;36m4\n\u001b[0;32m      <a href='vscode-notebook-cell:/c%3A/GitHub/python-training/exercises/Exceptions/01%2B-%2BExercises.ipynb#W3sZmlsZQ%3D%3D?line=0'>1</a>\u001b[0m values \u001b[39m=\u001b[39m []\n\u001b[0;32m      <a href='vscode-notebook-cell:/c%3A/GitHub/python-training/exercises/Exceptions/01%2B-%2BExercises.ipynb#W3sZmlsZQ%3D%3D?line=2'>3</a>\u001b[0m \u001b[39mtry\u001b[39;00m:\n\u001b[1;32m----> <a href='vscode-notebook-cell:/c%3A/GitHub/python-training/exercises/Exceptions/01%2B-%2BExercises.ipynb#W3sZmlsZQ%3D%3D?line=3'>4</a>\u001b[0m     minimum \u001b[39m=\u001b[39m \u001b[39mabs\u001b[39m(values[\u001b[39m0\u001b[39;49m])\n\u001b[0;32m      <a href='vscode-notebook-cell:/c%3A/GitHub/python-training/exercises/Exceptions/01%2B-%2BExercises.ipynb#W3sZmlsZQ%3D%3D?line=4'>5</a>\u001b[0m     \u001b[39mfor\u001b[39;00m value \u001b[39min\u001b[39;00m values[\u001b[39m1\u001b[39m:]:\n\u001b[0;32m      <a href='vscode-notebook-cell:/c%3A/GitHub/python-training/exercises/Exceptions/01%2B-%2BExercises.ipynb#W3sZmlsZQ%3D%3D?line=5'>6</a>\u001b[0m         \u001b[39mif\u001b[39;00m \u001b[39mabs\u001b[39m(value) \u001b[39m<\u001b[39m minimum:\n",
      "\u001b[1;31mIndexError\u001b[0m: list index out of range"
     ]
    }
   ],
   "source": [
    "values = []\n",
    "\n",
    "try:\n",
    "    minimum = abs(values[0])\n",
    "    for value in values[1:]:\n",
    "        if abs(value) < minimum:\n",
    "            minimum = abs(value)\n",
    "except IndexError:\n",
    "    minimum = 0\n",
    "\n",
    "print(f'Minimum is: {minimum}')"
   ]
  },
  {
   "cell_type": "markdown",
   "id": "vocal-notebook",
   "metadata": {},
   "source": [
    "The problem is that if the sequence is empty, it will raise an exception.\n",
    "\n",
    "Write code such that if the `values` sequence is empty, the calculated minimum is printed as `0`."
   ]
  },
  {
   "cell_type": "markdown",
   "id": "eligible-density",
   "metadata": {},
   "source": [
    "#### Question 2"
   ]
  },
  {
   "cell_type": "markdown",
   "id": "controlled-aluminum",
   "metadata": {},
   "source": [
    "Write code that raises the built-in Python exception `ValueError` with a custom message, and catches the exception and prints the custom message."
   ]
  }
 ],
 "metadata": {
  "kernelspec": {
   "display_name": "Python 3",
   "language": "python",
   "name": "python3"
  },
  "language_info": {
   "codemirror_mode": {
    "name": "ipython",
    "version": 3
   },
   "file_extension": ".py",
   "mimetype": "text/x-python",
   "name": "python",
   "nbconvert_exporter": "python",
   "pygments_lexer": "ipython3",
   "version": "3.12.0"
  }
 },
 "nbformat": 4,
 "nbformat_minor": 5
}
