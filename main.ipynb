{
 "cells": [
  {
   "cell_type": "markdown",
   "metadata": {},
   "source": [
    "# Comprehensions"
   ]
  },
  {
   "cell_type": "code",
   "execution_count": null,
   "metadata": {},
   "outputs": [],
   "source": [
    "numbers = [1, 2, 3, 4, 5]\n",
    "squared = [number ** 2 for number in numbers]\n",
    "squared"
   ]
  },
  {
   "cell_type": "markdown",
   "metadata": {},
   "source": [
    "## Standard approach"
   ]
  },
  {
   "cell_type": "code",
   "execution_count": null,
   "metadata": {},
   "outputs": [],
   "source": [
    "numbers = [1, 2, 3, 4, 5, 6, 7, 8]\n",
    "evens = []\n",
    "\n",
    "for number in numbers:\n",
    "    if number % 2 == 0:\n",
    "        evens.append(number)\n",
    "\n",
    "evens"
   ]
  },
  {
   "cell_type": "markdown",
   "metadata": {},
   "source": [
    "## Comprehensions approach"
   ]
  },
  {
   "cell_type": "code",
   "execution_count": null,
   "metadata": {},
   "outputs": [],
   "source": [
    "numbers = [1, 2, 3, 4, 5, 6, 7, 8]\n",
    "\n",
    "evens = [number for number in numbers if number % 2 == 0]\n",
    "\n",
    "evens"
   ]
  },
  {
   "cell_type": "markdown",
   "metadata": {},
   "source": [
    "## Coding Practice #1"
   ]
  },
  {
   "cell_type": "code",
   "execution_count": null,
   "metadata": {},
   "outputs": [],
   "source": [
    "# So we can find square roots\n",
    "from math import sqrt\n",
    "\n",
    "vectors = [(0, 0), (0, 1), (1, 0), (1, 1)]\n",
    "magnitudes = []\n",
    "\n",
    "# Traditional approach\n",
    "def traditional(arr):\n",
    "        for vector in vectors:\n",
    "            magnitude = sqrt(vector[0] ** 2 + vector[1] ** 2)\n",
    "            magnitudes.append(magnitude)\n",
    "        return magnitudes\n",
    "\n",
    "# Comprehensions approach\n",
    "def comprehensions(arr):\n",
    "        magnitudes = [sqrt(vector[0] ** 2 + vector[1] ** 2) for vector in vectors]\n",
    "        return magnitudes\n",
    "\n",
    "# traditional(vectors)\n",
    "comprehensions(vectors)"
   ]
  },
  {
   "cell_type": "code",
   "execution_count": null,
   "metadata": {},
   "outputs": [],
   "source": [
    "# Traditional approach\n",
    "strings = 'Python is an awesome language'.split(' ')\n",
    "filtered = []\n",
    "\n",
    "for item in strings:\n",
    "    if len(item) >= 5:\n",
    "        filtered.append(item)\n",
    "\n",
    "# filtered\n",
    "\n",
    "# Comprehensions approach\n",
    "strings = 'Python is an awesome language'.split(' ')\n",
    "\n",
    "filted = [item for item in strings if len(item) >= 5]\n",
    "\n",
    "filtered"
   ]
  },
  {
   "cell_type": "code",
   "execution_count": null,
   "metadata": {},
   "outputs": [],
   "source": [
    "# Tratidional 3x3 zero matrix\n",
    "m1 = [[0] * 3] * 3\n",
    "# m1\n",
    "\n",
    "# Comprehensions 3x3 zero matrix\n",
    "m2 = [[0] * 3 for row in range(3)]\n",
    "m2"
   ]
  },
  {
   "cell_type": "markdown",
   "metadata": {},
   "source": [
    "# Nested Comprehensions"
   ]
  },
  {
   "cell_type": "code",
   "execution_count": null,
   "metadata": {},
   "outputs": [],
   "source": [
    "m = [[0] * 3 for row in range(3)]\n",
    "\n",
    "# Traditional identidity matrix\n",
    "for row in range(3):\n",
    "    for col in range(3):\n",
    "        if row == col:\n",
    "            m[row][col] = 1\n",
    "\n",
    "# m\n",
    "\n",
    "# Comprehensions identidy matrix\n",
    "m = [\n",
    "    [1 if row == col else 0 for col in range(3)]\n",
    "    for row in range(3)\n",
    "]\n",
    "\n",
    "m"
   ]
  },
  {
   "cell_type": "markdown",
   "metadata": {},
   "source": [
    "# Dictionary comprehensions"
   ]
  },
  {
   "cell_type": "code",
   "execution_count": null,
   "metadata": {},
   "outputs": [],
   "source": []
  }
 ],
 "metadata": {
  "kernelspec": {
   "display_name": "Python 3",
   "language": "python",
   "name": "python3"
  },
  "language_info": {
   "codemirror_mode": {
    "name": "ipython",
    "version": 3
   },
   "file_extension": ".py",
   "mimetype": "text/x-python",
   "name": "python",
   "nbconvert_exporter": "python",
   "pygments_lexer": "ipython3",
   "version": "3.12.0"
  }
 },
 "nbformat": 4,
 "nbformat_minor": 2
}
