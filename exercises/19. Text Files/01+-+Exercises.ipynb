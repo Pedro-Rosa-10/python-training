{
 "cells": [
  {
   "cell_type": "markdown",
   "id": "plain-speaking",
   "metadata": {},
   "source": [
    "### Exercises"
   ]
  },
  {
   "cell_type": "markdown",
   "id": "hydraulic-hello",
   "metadata": {},
   "source": [
    "#### Question 1"
   ]
  },
  {
   "cell_type": "markdown",
   "id": "least-intelligence",
   "metadata": {},
   "source": [
    "Write some code that generates a file containing the following data:\n",
    "\n",
    "```\n",
    "i, fibonacci_i, factorial_i, gcd_fibonacci_i_factorial_i\n",
    "```\n",
    "\n",
    "where:\n",
    "- `i`: integer values from `0` to `100`\n",
    "- `fibonacci_i`: the `i`th Fibonacci number\n",
    "- `factorial_i`: the factorial of `i` (`i!`)\n",
    "- `gcd_fib_i_fact_i`: the greatest common denominator of the `i`th Fibonacci number and `i!` \n",
    "\n",
    "Hint: look at the `math.factorial` and `math.gcd` functions in the Python docs\n",
    "\n",
    "Also make sure to include a header row in your file."
   ]
  },
  {
   "cell_type": "markdown",
   "id": "consistent-lying",
   "metadata": {},
   "source": [
    "For example, the first few rows in your file should contain this data:"
   ]
  },
  {
   "cell_type": "markdown",
   "id": "express-distinction",
   "metadata": {},
   "source": [
    "```\n",
    "i,fib,fact,gcd\n",
    "0,1,1,1\n",
    "1,1,1,1\n",
    "2,2,2,2\n",
    "3,3,6,3\n",
    "4,5,24,1\n",
    "5,8,120,8\n",
    "```"
   ]
  },
  {
   "cell_type": "code",
   "execution_count": 23,
   "id": "bc85f903",
   "metadata": {},
   "outputs": [],
   "source": [
    "from functools import lru_cache\n",
    "from math import factorial, gcd\n",
    "\n",
    "myfile = 'data.csv'\n",
    "header = ('i', 'fib', 'fact', 'gcd')\n",
    "\n",
    "@lru_cache\n",
    "def fib(n):\n",
    "    if n <= 1:\n",
    "        return 1\n",
    "    else:\n",
    "        return fib(n-1) + fib(n-2)\n",
    "\n",
    "def write_data():\n",
    "    data = [i, fib(i), factorial(i), gcd(fib(i), factorial(i))]\n",
    "    row = ','.join(map(str, data))\n",
    "    return row\n",
    "\n",
    "n = 11\n",
    "\n",
    "with open(myfile, 'w') as f:\n",
    "    f.write(','.join(header))\n",
    "    f.write('\\n')\n",
    "    for i in range(n):\n",
    "        f.write(write_data())\n",
    "        f.write('\\n')\n"
   ]
  },
  {
   "cell_type": "markdown",
   "id": "north-voice",
   "metadata": {},
   "source": [
    "#### Question 2"
   ]
  },
  {
   "cell_type": "markdown",
   "id": "boring-veteran",
   "metadata": {},
   "source": [
    "Using the file you just generated, write three functions:\n",
    "- `fib`\n",
    "- `fact`\n",
    "- `gcd_fib_fact`\n",
    "\n",
    "that perform the same calculations as our original `fib` function, the `math` module's `factorial` and the `gcd` of the corresponding fibonacci and factorial numbers, but uses the data that was saved in the file as a cache/lookup mechanism - i.e. just use the numbers in the file if they are available, otherwise make the calculation."
   ]
  },
  {
   "cell_type": "code",
   "execution_count": 32,
   "id": "f09a7b9b",
   "metadata": {},
   "outputs": [
    {
     "name": "stdout",
     "output_type": "stream",
     "text": [
      "Fibonacci values: [1, 1, 2, 3, 5, 8, 13, 21, 34, 55, 89]\n",
      "Factorial values: [1, 1, 2, 6, 24, 120, 720, 5040, 40320, 362880, 3628800]\n",
      "GCD values: [1, 1, 2, 3, 1, 8, 1, 21, 2, 5, 1]\n"
     ]
    }
   ],
   "source": [
    "from functools import lru_cache\n",
    "from math import factorial, gcd\n",
    "\n",
    "myfile = 'data.csv'\n",
    "header = ('i', 'fib', 'fact', 'gcd')\n",
    "\n",
    "@lru_cache\n",
    "def fib(n):\n",
    "    if n < len(fib_stored):\n",
    "        return fib_stored[i]\n",
    "    else:\n",
    "        return fib(n-1) + fib(n-2)\n",
    "\n",
    "def fac(n):\n",
    "    if n < len(fac_stored):\n",
    "        return fac_stored[i]\n",
    "    else:\n",
    "        return factorial(i)\n",
    "\n",
    "def gcd_values(n):\n",
    "    if n < len(gcd_stored):\n",
    "        return gcd_stored[i]\n",
    "    else:\n",
    "        return gcd(fib(i), fac(i))\n",
    "\n",
    "data = []\n",
    "\n",
    "with open(myfile) as f:\n",
    "    next(f)\n",
    "    for row in f:\n",
    "        data.append(list(map(int, row.strip().split(','))))\n",
    "\n",
    "fib_stored = [row[1] for row in data]\n",
    "fac_stored = [row[2] for row in data]\n",
    "gcd_stored = [row[3] for row in data]\n",
    "\n",
    "print(f'Fibonacci values: {fib_stored}')\n",
    "print(f'Factorial values: {fac_stored}')\n",
    "print(f'GCD values: {gcd_stored}')\n"
   ]
  }
 ],
 "metadata": {
  "kernelspec": {
   "display_name": "Python 3",
   "language": "python",
   "name": "python3"
  },
  "language_info": {
   "codemirror_mode": {
    "name": "ipython",
    "version": 3
   },
   "file_extension": ".py",
   "mimetype": "text/x-python",
   "name": "python",
   "nbconvert_exporter": "python",
   "pygments_lexer": "ipython3",
   "version": "3.12.2"
  }
 },
 "nbformat": 4,
 "nbformat_minor": 5
}
