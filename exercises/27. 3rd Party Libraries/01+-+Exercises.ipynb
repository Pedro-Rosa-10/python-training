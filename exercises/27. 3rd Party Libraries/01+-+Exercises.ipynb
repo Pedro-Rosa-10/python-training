{
 "cells": [
  {
   "cell_type": "markdown",
   "id": "urban-territory",
   "metadata": {},
   "source": [
    "### Solutions"
   ]
  },
  {
   "cell_type": "markdown",
   "id": "computational-fitness",
   "metadata": {},
   "source": [
    "#### Question 1"
   ]
  },
  {
   "cell_type": "markdown",
   "id": "coral-lending",
   "metadata": {},
   "source": [
    "Use the `pytz` and `dateutil` libraries to convert this string into a UTC naive `datetime` object."
   ]
  },
  {
   "cell_type": "code",
   "execution_count": 1,
   "id": "formal-ability",
   "metadata": {},
   "outputs": [],
   "source": [
    "t = \"Feb 8, 2021 5:30pm (Denver Time)\""
   ]
  },
  {
   "cell_type": "code",
   "execution_count": 30,
   "id": "2ac665ee",
   "metadata": {},
   "outputs": [
    {
     "data": {
      "text/plain": [
       "datetime.datetime(2021, 2, 9, 0, 30)"
      ]
     },
     "execution_count": 30,
     "metadata": {},
     "output_type": "execute_result"
    }
   ],
   "source": [
    "from dateutil import parser\n",
    "import pytz\n",
    "\n",
    "time = \"Feb 8, 2021 5:30pm (Denver Time)\"\n",
    "\n",
    "datetime_naive, _ = parser.parse(time, fuzzy_with_tokens=True)\n",
    "timezone_denver = pytz.timezone('America/Denver')\n",
    "datetime_aware = timezone_denver.localize(datetime_naive)\n",
    "datetime_utc = datetime_aware.astimezone(pytz.UTC)\n",
    "datetime = datetime_utc.replace(tzinfo=None)\n",
    "\n",
    "datetime"
   ]
  },
  {
   "cell_type": "markdown",
   "id": "amended-illustration",
   "metadata": {},
   "source": [
    "#### Question 2"
   ]
  },
  {
   "cell_type": "markdown",
   "id": "massive-input",
   "metadata": {},
   "source": [
    "Use the `requests` library to load the following html page:"
   ]
  },
  {
   "cell_type": "code",
   "execution_count": 2,
   "id": "understanding-softball",
   "metadata": {},
   "outputs": [],
   "source": [
    "url = 'https://en.wikipedia.org/wiki/John_von_Neumann'"
   ]
  },
  {
   "cell_type": "markdown",
   "id": "systematic-shock",
   "metadata": {},
   "source": [
    "Once you have loaded that page, extract the title of that page, which is the text located between the `<title>` and `</title>` tags (often referred to as opening and closing tags, or start and end tags, respectively)."
   ]
  },
  {
   "cell_type": "markdown",
   "id": "equivalent-divide",
   "metadata": {},
   "source": [
    "Hint: You'll want to read the Python docs for the `find` method available for strings:\n",
    "\n",
    "https://docs.python.org/3/library/stdtypes.html?highlight=string#str.find"
   ]
  },
  {
   "cell_type": "code",
   "execution_count": 60,
   "id": "f3b4ca38",
   "metadata": {},
   "outputs": [
    {
     "name": "stdout",
     "output_type": "stream",
     "text": [
      "John von Neumann - Wikipedia\n"
     ]
    }
   ],
   "source": [
    "import requests, pprint, json\n",
    "\n",
    "url = 'https://en.wikipedia.org/wiki/John_von_Neumann'\n",
    "response = requests.get(url)\n",
    "\n",
    "if response.status_code == 200:\n",
    "    start = response.text.find('<title>')\n",
    "    end = response.text.find('</title>')\n",
    "    \n",
    "    title = response.text[start+len('<title>'):end]\n",
    "    print(title)\n",
    "else:\n",
    "    print(f'status_code: {response.status_code}')"
   ]
  },
  {
   "cell_type": "markdown",
   "id": "declared-appreciation",
   "metadata": {},
   "source": [
    "#### Question 3"
   ]
  },
  {
   "cell_type": "markdown",
   "id": "fifth-strength",
   "metadata": {},
   "source": [
    "Use a `GET` request to this URL:"
   ]
  },
  {
   "cell_type": "code",
   "execution_count": 3,
   "id": "coordinated-lounge",
   "metadata": {},
   "outputs": [],
   "source": [
    "url = 'https://httpbin.org/json'"
   ]
  },
  {
   "cell_type": "markdown",
   "id": "gross-vatican",
   "metadata": {},
   "source": [
    "Use the response from that request to:\n",
    "- determine the response format\n",
    "- extract the response into a Python object"
   ]
  },
  {
   "cell_type": "code",
   "execution_count": 95,
   "id": "1c79df18",
   "metadata": {},
   "outputs": [
    {
     "name": "stdout",
     "output_type": "stream",
     "text": [
      "\n",
      "content_type: application/json\n",
      "\n",
      "\n",
      "data_json: {'slideshow': {'author': 'Yours Truly', 'date': 'date of publication', 'slides': [{'title': 'Wake up to WonderWidgets!', 'type': 'all'}, {'items': ['Why <em>WonderWidgets</em> are great', 'Who <em>buys</em> WonderWidgets'], 'title': 'Overview', 'type': 'all'}], 'title': 'Sample Slide Show'}}\n",
      "\n",
      "\n",
      "data_text: {\n",
      "  \"slideshow\": {\n",
      "    \"author\": \"Yours Truly\", \n",
      "    \"date\": \"date of publication\", \n",
      "    \"slides\": [\n",
      "      {\n",
      "        \"title\": \"Wake up to WonderWidgets!\", \n",
      "        \"type\": \"all\"\n",
      "      }, \n",
      "      {\n",
      "        \"items\": [\n",
      "          \"Why <em>WonderWidgets</em> are great\", \n",
      "          \"Who <em>buys</em> WonderWidgets\"\n",
      "        ], \n",
      "        \"title\": \"Overview\", \n",
      "        \"type\": \"all\"\n",
      "      }\n",
      "    ], \n",
      "    \"title\": \"Sample Slide Show\"\n",
      "  }\n",
      "}\n",
      "\n",
      "\n"
     ]
    }
   ],
   "source": [
    "import requests, pprint, json\n",
    "\n",
    "url = 'https://httpbin.org/json'\n",
    "response = requests.get(url)\n",
    "content_type = response.headers.get('Content-Type')\n",
    "data_json = response.json()\n",
    "data_text = response.text\n",
    "\n",
    "if response.status_code == 200:\n",
    "    print(f'\\ncontent_type: {content_type}\\n')\n",
    "    print(f'\\ndata_json: {data_json}\\n')\n",
    "    print(f'\\ndata_text: {data_text}\\n')\n",
    "else:\n",
    "    print(f'Error: {response.status_code}')"
   ]
  },
  {
   "cell_type": "markdown",
   "id": "molecular-click",
   "metadata": {},
   "source": [
    "#### Question 4"
   ]
  },
  {
   "cell_type": "markdown",
   "id": "transsexual-simple",
   "metadata": {},
   "source": [
    "Use a `POST` request to call this url:"
   ]
  },
  {
   "cell_type": "code",
   "execution_count": 4,
   "id": "funky-mistress",
   "metadata": {},
   "outputs": [],
   "source": [
    "url = 'https://httpbin.org/anything'"
   ]
  },
  {
   "cell_type": "markdown",
   "id": "diverse-alpha",
   "metadata": {},
   "source": [
    "Make this call passing the following query parameters: `a=1` and `b=2`"
   ]
  },
  {
   "cell_type": "markdown",
   "id": "early-reminder",
   "metadata": {},
   "source": [
    "Also, pass this dictionary as the body of the post request:"
   ]
  },
  {
   "cell_type": "code",
   "execution_count": 5,
   "id": "excessive-mouth",
   "metadata": {},
   "outputs": [],
   "source": [
    "data = {\n",
    "    'x': 100,\n",
    "    'y': 200,\n",
    "    'z': ['a', 'b', 'c']\n",
    "}"
   ]
  },
  {
   "cell_type": "markdown",
   "id": "announced-discharge",
   "metadata": {},
   "source": [
    "Load the returned JSON into a Python object and print it out."
   ]
  },
  {
   "cell_type": "code",
   "execution_count": 110,
   "id": "7ccc858c",
   "metadata": {},
   "outputs": [
    {
     "name": "stdout",
     "output_type": "stream",
     "text": [
      "json(): {'args': {'a': '1', 'b': '2'}, 'data': '', 'files': {}, 'form': {'x': '100', 'y': '200', 'z': ['a', 'b', 'c']}, 'headers': {'Accept': '*/*', 'Accept-Encoding': 'gzip, deflate', 'Content-Length': '23', 'Content-Type': 'application/x-www-form-urlencoded', 'Host': 'httpbin.org', 'User-Agent': 'python-requests/2.31.0', 'X-Amzn-Trace-Id': 'Root=1-6619ef1f-753e7f5476771e1b52dd292d'}, 'json': None, 'method': 'POST', 'origin': '201.37.83.92', 'url': 'https://httpbin.org/anything?a=1&b=2'}\n",
      "text: {\n",
      "  \"args\": {\n",
      "    \"a\": \"1\", \n",
      "    \"b\": \"2\"\n",
      "  }, \n",
      "  \"data\": \"\", \n",
      "  \"files\": {}, \n",
      "  \"form\": {\n",
      "    \"x\": \"100\", \n",
      "    \"y\": \"200\", \n",
      "    \"z\": [\n",
      "      \"a\", \n",
      "      \"b\", \n",
      "      \"c\"\n",
      "    ]\n",
      "  }, \n",
      "  \"headers\": {\n",
      "    \"Accept\": \"*/*\", \n",
      "    \"Accept-Encoding\": \"gzip, deflate\", \n",
      "    \"Content-Length\": \"23\", \n",
      "    \"Content-Type\": \"application/x-www-form-urlencoded\", \n",
      "    \"Host\": \"httpbin.org\", \n",
      "    \"User-Agent\": \"python-requests/2.31.0\", \n",
      "    \"X-Amzn-Trace-Id\": \"Root=1-6619ef1f-753e7f5476771e1b52dd292d\"\n",
      "  }, \n",
      "  \"json\": null, \n",
      "  \"method\": \"POST\", \n",
      "  \"origin\": \"201.37.83.92\", \n",
      "  \"url\": \"https://httpbin.org/anything?a=1&b=2\"\n",
      "}\n",
      "\n"
     ]
    }
   ],
   "source": [
    "import requests\n",
    "\n",
    "url = 'https://httpbin.org/anything'\n",
    "data = {\n",
    "    'x': 100,\n",
    "    'y': 200,\n",
    "    'z': ['a', 'b', 'c']\n",
    "}\n",
    "response = requests.post(url, params={'a': 1, 'b': 2}, data=data)\n",
    "\n",
    "if response.status_code == 200:\n",
    "    print(f'json(): {response.json()}')\n",
    "    print(f'text: {response.text}')\n",
    "else:\n",
    "    print(f'status_code: {response.status_code}')"
   ]
  }
 ],
 "metadata": {
  "kernelspec": {
   "display_name": "Python 3",
   "language": "python",
   "name": "python3"
  },
  "language_info": {
   "codemirror_mode": {
    "name": "ipython",
    "version": 3
   },
   "file_extension": ".py",
   "mimetype": "text/x-python",
   "name": "python",
   "nbconvert_exporter": "python",
   "pygments_lexer": "ipython3",
   "version": "3.12.3"
  }
 },
 "nbformat": 4,
 "nbformat_minor": 5
}
