{
 "cells": [
  {
   "cell_type": "markdown",
   "id": "alert-document",
   "metadata": {},
   "source": [
    "### Solutions"
   ]
  },
  {
   "cell_type": "markdown",
   "id": "descending-cursor",
   "metadata": {},
   "source": [
    "#### Question 1"
   ]
  },
  {
   "cell_type": "markdown",
   "id": "fundamental-seven",
   "metadata": {},
   "source": [
    "Write a function that takes a variable number of arguments (with a minimum of one), and returns the average of these numbers."
   ]
  },
  {
   "cell_type": "code",
   "execution_count": 33,
   "id": "244ffe16",
   "metadata": {},
   "outputs": [
    {
     "ename": "TypeError",
     "evalue": "var_args_average() missing 1 required positional argument: 'required_argument'",
     "output_type": "error",
     "traceback": [
      "\u001b[1;31m---------------------------------------------------------------------------\u001b[0m",
      "\u001b[1;31mTypeError\u001b[0m                                 Traceback (most recent call last)",
      "Cell \u001b[1;32mIn[33], line 10\u001b[0m\n\u001b[0;32m      7\u001b[0m     \u001b[38;5;28;01melse\u001b[39;00m:\n\u001b[0;32m      8\u001b[0m         \u001b[38;5;28mprint\u001b[39m(\u001b[38;5;124mf\u001b[39m\u001b[38;5;124m'\u001b[39m\u001b[38;5;124mOptional arguments: None\u001b[39m\u001b[38;5;124m'\u001b[39m)\n\u001b[1;32m---> 10\u001b[0m \u001b[43mvar_args_average\u001b[49m\u001b[43m(\u001b[49m\u001b[43m)\u001b[49m\n",
      "\u001b[1;31mTypeError\u001b[0m: var_args_average() missing 1 required positional argument: 'required_argument'"
     ]
    }
   ],
   "source": [
    "def arguments_average(*arguments):\n",
    "    try:\n",
    "        print(f'Arguments: {arguments}')\n",
    "        average = sum(arguments) / len(arguments)\n",
    "        print(f'Average: {average}')\n",
    "    except ZeroDivisionError:\n",
    "        raise ValueError(f'No arguments: minimum of one')\n",
    "\n",
    "arguments_average()"
   ]
  },
  {
   "cell_type": "markdown",
   "id": "atlantic-edgar",
   "metadata": {},
   "source": [
    "#### Question 2"
   ]
  },
  {
   "cell_type": "markdown",
   "id": "alive-concrete",
   "metadata": {},
   "source": [
    "Write a function that returns a string based on two input arguments:\n",
    "- a character or string to be repeated\n",
    "- the number of times the string should be repeated"
   ]
  },
  {
   "cell_type": "markdown",
   "id": "green-opinion",
   "metadata": {},
   "source": [
    "The function should be such that the number of repetitions defaults to `10` if it is not passed by the caller, and the default character to be repeated should be a negative sign (`-`).\n",
    "\n",
    "Call your function `separator`.\n",
    "\n",
    "Use a keyword-only argument for the string argument."
   ]
  },
  {
   "cell_type": "code",
   "execution_count": 9,
   "id": "77c56cf0",
   "metadata": {},
   "outputs": [
    {
     "name": "stdout",
     "output_type": "stream",
     "text": [
      "++++++++++++++++++++++++++++++++++++++++++++++++++\n",
      "None\n"
     ]
    }
   ],
   "source": [
    "# A function that takes two arguments\n",
    "def separator(string_arg='-', repetitions=10):\n",
    "    return print(f'{string_arg * repetitions}')\n",
    "    \n",
    "print(separator('+', 50))"
   ]
  },
  {
   "cell_type": "markdown",
   "id": "elegant-glass",
   "metadata": {},
   "source": [
    "#### Question 3"
   ]
  },
  {
   "cell_type": "markdown",
   "id": "thrown-theology",
   "metadata": {},
   "source": [
    "Write a lambda function that returns the number of unique elements in an iterable. This could be the number of unique characters in a string, or the number of unique elements in a list, tuple, etc.\n",
    "\n",
    "If the iterable received by the lambda function is empty, then it should return `0`."
   ]
  },
  {
   "cell_type": "code",
   "execution_count": 65,
   "id": "bf2937b1",
   "metadata": {},
   "outputs": [
    {
     "data": {
      "text/plain": [
       "26"
      ]
     },
     "execution_count": 65,
     "metadata": {},
     "output_type": "execute_result"
    }
   ],
   "source": [
    "# 1. \"\".join to merge them all into a single word\n",
    "# 2. .lower() so there is no difference from uppercase\n",
    "# 3. - 1 makes sure the spacebar is not counted\n",
    "\n",
    "fun = lambda x=0: len(\"\".join(set(x.lower()))) - 1 if x else 0\n",
    "fun('The quick brown fox jumps over the lazy dog') # Expected output: 26"
   ]
  },
  {
   "cell_type": "code",
   "execution_count": 30,
   "id": "a31e1ea8",
   "metadata": {},
   "outputs": [
    {
     "name": "stdout",
     "output_type": "stream",
     "text": [
      "onaprimg\n"
     ]
    }
   ],
   "source": [
    "def get_unique_letters_ordered(input_string):\n",
    "    seen = set()\n",
    "    unique_letters = []\n",
    "    \n",
    "    for char in input_string:\n",
    "        if char not in seen:\n",
    "            unique_letters.append(char)\n",
    "            seen.add(char)\n",
    "    \n",
    "    return \"\".join(unique_letters)\n",
    "\n",
    "# Example usage:\n",
    "original_string = \"programming\"\n",
    "result_ordered = get_unique_letters_ordered(original_string)\n",
    "\n",
    "print(result_ordered)"
   ]
  },
  {
   "cell_type": "markdown",
   "id": "earlier-community",
   "metadata": {},
   "source": [
    "#### Question 4"
   ]
  },
  {
   "cell_type": "markdown",
   "id": "criminal-heritage",
   "metadata": {},
   "source": [
    "Write a function that receives a string as an argument (defaults to an empty string) and returns a dictionary with the unique words and their frequency."
   ]
  },
  {
   "cell_type": "markdown",
   "id": "loose-brooks",
   "metadata": {},
   "source": [
    "For example, for a string such as:\n",
    "\n",
    "```\n",
    "This is the first sentence. This is the scecond sentence. This is not the fourth sentence, it is the third sentence.\n",
    "```\n",
    "\n",
    "the result of the function should be:"
   ]
  },
  {
   "cell_type": "code",
   "execution_count": 1,
   "id": "middle-public",
   "metadata": {},
   "outputs": [],
   "source": [
    "result = {\n",
    "    'This': 3,\n",
    "    'is': 4,\n",
    "    'the': 4,\n",
    "    'first': 1,\n",
    "    'sentence': 4,\n",
    "    'scecond': 1,\n",
    "    'not': 1,\n",
    "    'fourth': 1,\n",
    "    'it': 1,\n",
    "    'third': 1\n",
    "}"
   ]
  },
  {
   "cell_type": "markdown",
   "id": "sonic-civilization",
   "metadata": {},
   "source": [
    "You may assume that word separators are limited to spaces, commas, and periods (no newline characters)."
   ]
  },
  {
   "cell_type": "markdown",
   "id": "finished-collar",
   "metadata": {},
   "source": [
    "Hint: You will want to split based on some character. Problem is that we really need to split based on three different characters: spaces, commas and periods. One approach would be to replace all commas and periods with spaces and then split on spaces."
   ]
  },
  {
   "cell_type": "code",
   "execution_count": 44,
   "id": "d36cd328",
   "metadata": {},
   "outputs": [
    {
     "data": {
      "text/plain": [
       "{'This': 3,\n",
       " 'is': 4,\n",
       " 'the': 4,\n",
       " 'first': 1,\n",
       " 'sentence': 4,\n",
       " 'scecond': 1,\n",
       " 'not': 1,\n",
       " 'fourth': 1,\n",
       " 'it': 1,\n",
       " 'third': 1}"
      ]
     },
     "execution_count": 44,
     "metadata": {},
     "output_type": "execute_result"
    }
   ],
   "source": [
    "from collections import Counter\n",
    "\n",
    "def words_frequency(words=''):\n",
    "    no_commas = words.replace(',', ' ')     # Replace all commas\n",
    "    no_period = no_commas.replace('.', ' ') # Replace all periods\n",
    "    new_string = no_period.split()          # Split through all spaces\n",
    "    return dict(Counter(new_string))\n",
    "\n",
    "sentence = 'This is the first sentence. This is the scecond sentence. This is not the fourth sentence, it is the third sentence.'\n",
    "\n",
    "words_frequency(sentence)"
   ]
  }
 ],
 "metadata": {
  "kernelspec": {
   "display_name": "Python 3",
   "language": "python",
   "name": "python3"
  },
  "language_info": {
   "codemirror_mode": {
    "name": "ipython",
    "version": 3
   },
   "file_extension": ".py",
   "mimetype": "text/x-python",
   "name": "python",
   "nbconvert_exporter": "python",
   "pygments_lexer": "ipython3",
   "version": "3.12.0"
  }
 },
 "nbformat": 4,
 "nbformat_minor": 5
}
