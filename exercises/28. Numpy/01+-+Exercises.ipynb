{
 "cells": [
  {
   "cell_type": "markdown",
   "id": "complimentary-glory",
   "metadata": {},
   "source": [
    "### Exercises"
   ]
  },
  {
   "cell_type": "markdown",
   "id": "collected-sacramento",
   "metadata": {},
   "source": [
    "#### Question 1"
   ]
  },
  {
   "cell_type": "markdown",
   "id": "bizarre-definition",
   "metadata": {},
   "source": [
    "The accompanying file `data.csv` contains information for the value `x` of something observed at time `t`."
   ]
  },
  {
   "cell_type": "markdown",
   "id": "vocational-remains",
   "metadata": {},
   "source": [
    "Given this data, we want to calculate the rate of change of this value over time - we'll do this by taking two consecutive observations, say $x(t_i)$ and $x(t_{i+1})$ and approximate the rate of change using this formula:\n",
    "\n",
    "$$\n",
    "v(t_{i+1}) = \\frac{x(t_{i+1}) - x(t_i)}{t_{i+1} - t_i}\n",
    "$$"
   ]
  },
  {
   "cell_type": "markdown",
   "id": "affected-rocket",
   "metadata": {},
   "source": [
    "For example, if the data looks like this:\n",
    "\n",
    "```\n",
    "t     x\n",
    "0.1   10\n",
    "0.2   12\n",
    "0.4   14\n",
    "0.5   15\n",
    "```"
   ]
  },
  {
   "cell_type": "markdown",
   "id": "alternate-nudist",
   "metadata": {},
   "source": [
    "Then the first row of data would be considered $t_0$, the second row $t_1$, etc"
   ]
  },
  {
   "cell_type": "markdown",
   "id": "ancient-decade",
   "metadata": {},
   "source": [
    "And we can start approximating the rate of change starting at $v_1$ which would be calculated as:\n",
    "\n",
    "$$\n",
    "v_1 = \\frac{12 - 10}{0.2 - 0.1} = 20.0\n",
    "$$"
   ]
  },
  {
   "cell_type": "markdown",
   "id": "toxic-doctrine",
   "metadata": {},
   "source": [
    "Similarly, $v_2$ would be calculated as:\n",
    "\n",
    "$$\n",
    "v_2 = \\frac{14 - 12}{0.4 - 0.2} = 10.0\n",
    "$$"
   ]
  },
  {
   "cell_type": "markdown",
   "id": "second-participant",
   "metadata": {},
   "source": [
    "Use NumPy arrays to create an array that holds the calculated rates of change and determine the minimum, maximum, average and standard deviation of the rate of change."
   ]
  },
  {
   "cell_type": "code",
   "execution_count": 22,
   "id": "5aa1efac",
   "metadata": {},
   "outputs": [
    {
     "name": "stdout",
     "output_type": "stream",
     "text": [
      "Rate change: [        inf -0.01747503 -0.00896888 -0.0075219  -0.00533187 -0.00373633\n",
      " -0.00355075 -0.00237648 -0.00278519 -0.0022859  -0.00172917 -0.00199385\n",
      " -0.00148887 -0.00175985 -0.00121255 -0.00135691 -0.00128309 -0.00107748\n",
      " -0.00126601 -0.00096024 -0.00095636 -0.00103077 -0.000901   -0.00091999\n",
      " -0.00075261 -0.00073467 -0.00082781 -0.00070025 -0.00070347 -0.00081875\n",
      " -0.00057297 -0.00065515 -0.00066129 -0.00063492 -0.00057342 -0.00050931\n",
      " -0.00062111 -0.00054949 -0.00051878 -0.00043017 -0.00051467 -0.00055323\n",
      " -0.00040769 -0.00046925 -0.0004734  -0.00047052 -0.00037824 -0.00046014\n",
      " -0.0004109  -0.00042832 -0.00039648 -0.00038236 -0.00041622 -0.00034243\n",
      " -0.00036978 -0.00038504 -0.00034921 -0.00030879 -0.00037364 -0.00034499\n",
      " -0.00034987 -0.00029836 -0.00035741 -0.00030421 -0.00032049 -0.00028934\n",
      " -0.00028446 -0.00031364 -0.00029008 -0.00030938 -0.00025942 -0.00026214\n",
      " -0.00028064 -0.00031534 -0.00027842 -0.00026143 -0.00026319 -0.00022609\n",
      " -0.00028509 -0.00021965 -0.00028007 -0.00021252 -0.00025103 -0.00023653\n",
      " -0.00025197 -0.00025211 -0.00022769 -0.000234   -0.00022018 -0.00021106\n",
      " -0.00021518 -0.0002508  -0.0001864  -0.00023065 -0.00022798 -0.00019951\n",
      " -0.00019539 -0.00021429 -0.00018798]\n",
      "\n",
      "Lowers value: -0.017475032704468974\n",
      "Highest value: inf\n",
      "Average value: inf\n",
      "Standard deviation: nan\n"
     ]
    },
    {
     "name": "stderr",
     "output_type": "stream",
     "text": [
      "C:\\Users\\poaped10\\AppData\\Local\\Temp\\ipykernel_14956\\2636708076.py:27: RuntimeWarning: divide by zero encountered in divide\n",
      "  rates = delta_t / delta_x\n",
      "c:\\Users\\poaped10\\Repos\\python-training\\venv\\Lib\\site-packages\\numpy\\core\\_methods.py:173: RuntimeWarning: invalid value encountered in subtract\n",
      "  x = asanyarray(arr - arrmean)\n"
     ]
    }
   ],
   "source": [
    "import numpy as np\n",
    "import csv\n",
    "\n",
    "# CSV file\n",
    "csv_file = './data.csv'\n",
    "\n",
    "def rate_change(table):\n",
    "    \"\"\" Rate change calc of CSV data\n",
    "\n",
    "    Args:\n",
    "        table (csv): data for calculations\n",
    "    \"\"\"\n",
    "    # Read CSV data\n",
    "    with open(table, 'r') as f:\n",
    "        reader = csv.reader(f)\n",
    "        next(f)\n",
    "        row_data = list(reader)\n",
    "\n",
    "    # Unpack into numpy\n",
    "    data = [[float(t), float(x)] for t, x in row_data]\n",
    "    np_data = np.array(data)\n",
    "\n",
    "    # Delta T and X calcs\n",
    "    delta_t = np_data[1:, 0] - np_data[:-1, 0]\n",
    "    delta_x = np_data[1:, 1] - np_data[:-1, 1]\n",
    "\n",
    "    rates = delta_t / delta_x\n",
    "    return rates\n",
    "\n",
    "values = rate_change(csv_file)\n",
    "\n",
    "print(f'Rate change: {values}\\n')\n",
    "print(f'Lowers value: {np.amin(values)}')\n",
    "print(f'Highest value: {np.amax(values)}')\n",
    "print(f'Average value: {np.mean(values)}')\n",
    "print(f'Standard deviation: {np.std(values)}')\n"
   ]
  },
  {
   "cell_type": "markdown",
   "id": "compliant-mexico",
   "metadata": {},
   "source": [
    "#### Question 2"
   ]
  },
  {
   "cell_type": "markdown",
   "id": "polished-ebony",
   "metadata": {},
   "source": [
    "In linear regression we try to find the coefficients `m` (slope) and `c` (y-intercept) of a straight line\n",
    "\n",
    "$$\n",
    "y = mx + c\n",
    "$$\n",
    "\n",
    "that provides the \"best\" fit given some `x` and `y` data. This formula then allows to predict `y` values for given `x` values."
   ]
  },
  {
   "cell_type": "markdown",
   "id": "gorgeous-assets",
   "metadata": {},
   "source": [
    "Given an array of `n` `(x, y)` data pairs, these coefficients can be calculated very simply."
   ]
  },
  {
   "cell_type": "markdown",
   "id": "failing-tours",
   "metadata": {},
   "source": [
    "A bit of terminology first:"
   ]
  },
  {
   "cell_type": "markdown",
   "id": "liable-civilization",
   "metadata": {},
   "source": [
    "- Let `X` mean the column of `X` values.\n",
    "- Let `Y` mean the column of `Y` values.\n",
    "- Let `XX` mean a column calculated by multiplying each `x` in the `X` column by itself\n",
    "- Let `XY` mean a column calculated by multiplying the `x` and `y` values from the `X` and `Y` columns"
   ]
  },
  {
   "cell_type": "markdown",
   "id": "divine-texas",
   "metadata": {},
   "source": [
    "Then, given some column (say `X`), this symbol: $\\sum{X}$ means the sum of all the elements in the column.\n",
    "\n",
    "Similarly, the symbol $\\sum{XY}$ means the sum of the values obtained by multiplying (pairwise) the values in `X` and `Y`."
   ]
  },
  {
   "cell_type": "markdown",
   "id": "lonely-reward",
   "metadata": {},
   "source": [
    "Given those definitions, the formulas for calculating the \"best\" values of `m` and `c` are given by:"
   ]
  },
  {
   "cell_type": "markdown",
   "id": "engaged-positive",
   "metadata": {},
   "source": [
    "$$\n",
    "m = \\frac{n\\sum{XY} - \\sum{X}\\sum{Y}}{n\\sum{XX} - (\\sum{X})^2}\n",
    "$$"
   ]
  },
  {
   "cell_type": "markdown",
   "id": "japanese-breakfast",
   "metadata": {},
   "source": [
    "$$\n",
    "c = \\frac{\\sum{Y}\\sum{XX} - \\sum{X}\\sum{XY}}{n\\sum{XX} - (\\sum{X})^2}\n",
    "$$"
   ]
  },
  {
   "cell_type": "markdown",
   "id": "collect-guidance",
   "metadata": {},
   "source": [
    "(where `n` is the number of `(x,y)` pairs in our data set.)"
   ]
  },
  {
   "cell_type": "markdown",
   "id": "suspended-calgary",
   "metadata": {},
   "source": [
    "Using the same data we saw in Question 1, calculate the values for `m` and `c` for that data set given the formulas above.\n",
    "\n",
    "You can think of the `t` column in the data as the `X` column, and the `x` values in the data as the `Y` column - we are trying to predict the value of `x` given a value of `t`."
   ]
  },
  {
   "cell_type": "markdown",
   "id": "classical-theorem",
   "metadata": {},
   "source": [
    "This will result in a straight line that \"best\" fits through the data."
   ]
  },
  {
   "cell_type": "markdown",
   "id": "precious-boundary",
   "metadata": {},
   "source": [
    "Compare the slope of this regression line to the average rate of change you calculated in Question 1."
   ]
  },
  {
   "cell_type": "code",
   "execution_count": 16,
   "id": "21157557",
   "metadata": {},
   "outputs": [
    {
     "name": "stdout",
     "output_type": "stream",
     "text": [
      "(49.978008206387344, 10.081268844890284)\n"
     ]
    }
   ],
   "source": [
    "import numpy as np\n",
    "import csv\n",
    "\n",
    "# CSV file\n",
    "csv_file = './data.csv'\n",
    "\n",
    "def linear_regression(table):\n",
    "    # Read CSV data\n",
    "    with open(table, 'r') as f:\n",
    "        reader = csv.reader(f)\n",
    "        next(f)\n",
    "        row_data = list(reader)\n",
    "\n",
    "    # Unpack into numpy\n",
    "    data = [[float(t), float(x)] for t, x in row_data]\n",
    "    np_data = np.array(data)\n",
    "\n",
    "    # Columns X and Y values\n",
    "    X = np_data[:, 0]\n",
    "    Y = np_data[:, 1]\n",
    "\n",
    "    # N value\n",
    "    n = len(X)\n",
    "\n",
    "    # Two M line calc values\n",
    "    m1 = (n * np.sum(X * Y)) - (np.sum(X) * np.sum(Y))\n",
    "    m2 = (n * np.sum(X * X)) - (np.sum(X) * np.sum(X))\n",
    "    m3 = m1 / m2 # Divide both line values\n",
    "\n",
    "    # Two C line calc values\n",
    "    c1 = (np.sum(Y) * np.sum(X * X)) - (np.sum(X) * np.sum(X * Y))\n",
    "    c2 = (n * np.sum(X * X)) - (np.sum(X) * np.sum(X))\n",
    "    c3 = c1 / c2 # Divide both line values\n",
    "\n",
    "    return m3, c3\n",
    "\n",
    "values = linear_regression(csv_file)\n",
    "print(values)"
   ]
  }
 ],
 "metadata": {
  "kernelspec": {
   "display_name": "Python 3",
   "language": "python",
   "name": "python3"
  },
  "language_info": {
   "codemirror_mode": {
    "name": "ipython",
    "version": 3
   },
   "file_extension": ".py",
   "mimetype": "text/x-python",
   "name": "python",
   "nbconvert_exporter": "python",
   "pygments_lexer": "ipython3",
   "version": "3.12.3"
  }
 },
 "nbformat": 4,
 "nbformat_minor": 5
}
