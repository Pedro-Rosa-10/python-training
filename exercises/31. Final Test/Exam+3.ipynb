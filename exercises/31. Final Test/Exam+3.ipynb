{
 "cells": [
  {
   "cell_type": "markdown",
   "id": "overhead-penguin",
   "metadata": {},
   "source": [
    "### Exam 3"
   ]
  },
  {
   "cell_type": "markdown",
   "id": "peripheral-franchise",
   "metadata": {},
   "source": [
    "The downloadable course materials contain a folder named `Exam Materials` which contains the following file:\n",
    "\n",
    "```\n",
    "widget_sales.csv\n",
    "```"
   ]
  },
  {
   "cell_type": "markdown",
   "id": "employed-syracuse",
   "metadata": {},
   "source": [
    "This CSV file contains sales data for some widgets, and contains the following columns:\n",
    "- `widget`: the name of the widget (string)\n",
    "- `date_sold`: an epoch indicating date and time sale occurred (integer)\n",
    "- `quantity_sold`: the number of widgets sold (integer)\n",
    "- `unit_price`: the unit price widget was sold for (float)\n",
    "- `tax`: the tax that was added to the sale price (float)\n",
    "- `discount`: the discount that was subtracted from the sale price (float)"
   ]
  },
  {
   "cell_type": "markdown",
   "id": "incoming-jewelry",
   "metadata": {},
   "source": [
    "All the questions on this exam relate to the data contained in this file."
   ]
  },
  {
   "cell_type": "markdown",
   "id": "timely-pressing",
   "metadata": {},
   "source": [
    "#### Q1"
   ]
  },
  {
   "cell_type": "markdown",
   "id": "stunning-trout",
   "metadata": {},
   "source": [
    "First thing is to load the data into a Pandas dataframe.\n",
    "\n",
    "We do this by running the following code:"
   ]
  },
  {
   "cell_type": "code",
   "execution_count": 5,
   "id": "historical-wrong",
   "metadata": {},
   "outputs": [
    {
     "data": {
      "text/html": [
       "<div>\n",
       "<style scoped>\n",
       "    .dataframe tbody tr th:only-of-type {\n",
       "        vertical-align: middle;\n",
       "    }\n",
       "\n",
       "    .dataframe tbody tr th {\n",
       "        vertical-align: top;\n",
       "    }\n",
       "\n",
       "    .dataframe thead th {\n",
       "        text-align: right;\n",
       "    }\n",
       "</style>\n",
       "<table border=\"1\" class=\"dataframe\">\n",
       "  <thead>\n",
       "    <tr style=\"text-align: right;\">\n",
       "      <th></th>\n",
       "      <th>widget</th>\n",
       "      <th>date_sold</th>\n",
       "      <th>quantity_sold</th>\n",
       "      <th>unit_price</th>\n",
       "      <th>tax</th>\n",
       "      <th>discount</th>\n",
       "    </tr>\n",
       "  </thead>\n",
       "  <tbody>\n",
       "    <tr>\n",
       "      <th>0</th>\n",
       "      <td>DDD</td>\n",
       "      <td>1579626005</td>\n",
       "      <td>2.0</td>\n",
       "      <td>9.99</td>\n",
       "      <td>0.26</td>\n",
       "      <td>0.51</td>\n",
       "    </tr>\n",
       "    <tr>\n",
       "      <th>1</th>\n",
       "      <td>NaN</td>\n",
       "      <td>1579134185</td>\n",
       "      <td>16.0</td>\n",
       "      <td>9.99</td>\n",
       "      <td>2.86</td>\n",
       "      <td>7.13</td>\n",
       "    </tr>\n",
       "    <tr>\n",
       "      <th>2</th>\n",
       "      <td>BBB</td>\n",
       "      <td>1579978810</td>\n",
       "      <td>NaN</td>\n",
       "      <td>15.00</td>\n",
       "      <td>1.06</td>\n",
       "      <td>2.83</td>\n",
       "    </tr>\n",
       "    <tr>\n",
       "      <th>3</th>\n",
       "      <td>EEE</td>\n",
       "      <td>1578912699</td>\n",
       "      <td>18.0</td>\n",
       "      <td>199.99</td>\n",
       "      <td>176.89</td>\n",
       "      <td>145.83</td>\n",
       "    </tr>\n",
       "    <tr>\n",
       "      <th>4</th>\n",
       "      <td>BBB</td>\n",
       "      <td>1579162853</td>\n",
       "      <td>4.0</td>\n",
       "      <td>15.00</td>\n",
       "      <td>2.19</td>\n",
       "      <td>2.70</td>\n",
       "    </tr>\n",
       "    <tr>\n",
       "      <th>5</th>\n",
       "      <td>FFF</td>\n",
       "      <td>1579246947</td>\n",
       "      <td>16.0</td>\n",
       "      <td>250.00</td>\n",
       "      <td>111.96</td>\n",
       "      <td>70.76</td>\n",
       "    </tr>\n",
       "    <tr>\n",
       "      <th>6</th>\n",
       "      <td>CCC</td>\n",
       "      <td>1580424245</td>\n",
       "      <td>7.0</td>\n",
       "      <td>22.99</td>\n",
       "      <td>7.78</td>\n",
       "      <td>3.84</td>\n",
       "    </tr>\n",
       "    <tr>\n",
       "      <th>7</th>\n",
       "      <td>EEE</td>\n",
       "      <td>1578954583</td>\n",
       "      <td>2.0</td>\n",
       "      <td>199.99</td>\n",
       "      <td>16.10</td>\n",
       "      <td>10.97</td>\n",
       "    </tr>\n",
       "    <tr>\n",
       "      <th>8</th>\n",
       "      <td>AAA</td>\n",
       "      <td>1578253210</td>\n",
       "      <td>13.0</td>\n",
       "      <td>10.75</td>\n",
       "      <td>4.96</td>\n",
       "      <td>5.49</td>\n",
       "    </tr>\n",
       "    <tr>\n",
       "      <th>9</th>\n",
       "      <td>FFF</td>\n",
       "      <td>1577866793</td>\n",
       "      <td>16.0</td>\n",
       "      <td>250.00</td>\n",
       "      <td>165.61</td>\n",
       "      <td>66.63</td>\n",
       "    </tr>\n",
       "    <tr>\n",
       "      <th>10</th>\n",
       "      <td>FFF</td>\n",
       "      <td>1579226005</td>\n",
       "      <td>3.0</td>\n",
       "      <td>250.00</td>\n",
       "      <td>7.17</td>\n",
       "      <td>21.28</td>\n",
       "    </tr>\n",
       "  </tbody>\n",
       "</table>\n",
       "</div>"
      ],
      "text/plain": [
       "   widget   date_sold  quantity_sold  unit_price     tax  discount\n",
       "0     DDD  1579626005            2.0        9.99    0.26      0.51\n",
       "1     NaN  1579134185           16.0        9.99    2.86      7.13\n",
       "2     BBB  1579978810            NaN       15.00    1.06      2.83\n",
       "3     EEE  1578912699           18.0      199.99  176.89    145.83\n",
       "4     BBB  1579162853            4.0       15.00    2.19      2.70\n",
       "5     FFF  1579246947           16.0      250.00  111.96     70.76\n",
       "6     CCC  1580424245            7.0       22.99    7.78      3.84\n",
       "7     EEE  1578954583            2.0      199.99   16.10     10.97\n",
       "8     AAA  1578253210           13.0       10.75    4.96      5.49\n",
       "9     FFF  1577866793           16.0      250.00  165.61     66.63\n",
       "10    FFF  1579226005            3.0      250.00    7.17     21.28"
      ]
     },
     "execution_count": 5,
     "metadata": {},
     "output_type": "execute_result"
    }
   ],
   "source": [
    "import pandas as pd\n",
    "df = pd.read_csv('widget_sales.csv')\n",
    "df.loc[:10]"
   ]
  },
  {
   "cell_type": "markdown",
   "id": "pleasant-morgan",
   "metadata": {},
   "source": [
    "The expected data type for the `quantity_sold` column is an integer, what are the expected and actual Numpy data types for that column in the loaded dataframe?"
   ]
  },
  {
   "cell_type": "markdown",
   "id": "overhead-newcastle",
   "metadata": {},
   "source": [
    "- a. expected = `int64`, actual = `int64`\n",
    "- b. expected = `int64`, actual = `float64`\n",
    "- c. expected = `float64`, actual = `object`\n",
    "- d. expected = `float64`, actual = `float64`\n"
   ]
  },
  {
   "cell_type": "markdown",
   "id": "professional-round",
   "metadata": {},
   "source": [
    "#### Q2"
   ]
  },
  {
   "cell_type": "markdown",
   "id": "sexual-clear",
   "metadata": {},
   "source": [
    "Why is the expected and actual data type for `quantity_sold` not the same?\n",
    "\n",
    "- a. The csv data contains some float values for that column, not just integers\n",
    "- b. There's a bug in Pandas\n",
    "- c. That column has some missing values\n",
    "- d. The expected and actual data types are the same - nothing to see here, move along!\n"
   ]
  },
  {
   "cell_type": "markdown",
   "id": "close-florist",
   "metadata": {},
   "source": [
    "#### Q3"
   ]
  },
  {
   "cell_type": "code",
   "execution_count": 11,
   "id": "6518b6d4",
   "metadata": {},
   "outputs": [
    {
     "data": {
      "text/plain": [
       "{'quantity_sold', 'widget'}"
      ]
     },
     "execution_count": 11,
     "metadata": {},
     "output_type": "execute_result"
    }
   ],
   "source": [
    "nan_columns = set(df.columns[df.isna().any()])\n",
    "nan_columns"
   ]
  },
  {
   "cell_type": "markdown",
   "id": "neural-exercise",
   "metadata": {},
   "source": [
    "Inspect the data frame to determine which columns have missing (null) values.\n",
    "\n",
    "- a. `widget`, `quantity_sold` only\n",
    "- b. `date_sold`, `quantity_sold` only\n",
    "- c. `quantity_sold` only\n",
    "- d. there are no missing values anywhere\n"
   ]
  },
  {
   "cell_type": "markdown",
   "id": "animated-congress",
   "metadata": {},
   "source": [
    "#### Q4"
   ]
  },
  {
   "cell_type": "code",
   "execution_count": 15,
   "id": "ac075a0b",
   "metadata": {},
   "outputs": [
    {
     "data": {
      "text/html": [
       "<div>\n",
       "<style scoped>\n",
       "    .dataframe tbody tr th:only-of-type {\n",
       "        vertical-align: middle;\n",
       "    }\n",
       "\n",
       "    .dataframe tbody tr th {\n",
       "        vertical-align: top;\n",
       "    }\n",
       "\n",
       "    .dataframe thead th {\n",
       "        text-align: right;\n",
       "    }\n",
       "</style>\n",
       "<table border=\"1\" class=\"dataframe\">\n",
       "  <thead>\n",
       "    <tr style=\"text-align: right;\">\n",
       "      <th></th>\n",
       "      <th>widget</th>\n",
       "      <th>date_sold</th>\n",
       "      <th>quantity_sold</th>\n",
       "      <th>unit_price</th>\n",
       "      <th>tax</th>\n",
       "      <th>discount</th>\n",
       "    </tr>\n",
       "  </thead>\n",
       "  <tbody>\n",
       "    <tr>\n",
       "      <th>0</th>\n",
       "      <td>DDD</td>\n",
       "      <td>1579626005</td>\n",
       "      <td>2.0</td>\n",
       "      <td>9.99</td>\n",
       "      <td>0.26</td>\n",
       "      <td>0.51</td>\n",
       "    </tr>\n",
       "    <tr>\n",
       "      <th>3</th>\n",
       "      <td>EEE</td>\n",
       "      <td>1578912699</td>\n",
       "      <td>18.0</td>\n",
       "      <td>199.99</td>\n",
       "      <td>176.89</td>\n",
       "      <td>145.83</td>\n",
       "    </tr>\n",
       "    <tr>\n",
       "      <th>4</th>\n",
       "      <td>BBB</td>\n",
       "      <td>1579162853</td>\n",
       "      <td>4.0</td>\n",
       "      <td>15.00</td>\n",
       "      <td>2.19</td>\n",
       "      <td>2.70</td>\n",
       "    </tr>\n",
       "    <tr>\n",
       "      <th>5</th>\n",
       "      <td>FFF</td>\n",
       "      <td>1579246947</td>\n",
       "      <td>16.0</td>\n",
       "      <td>250.00</td>\n",
       "      <td>111.96</td>\n",
       "      <td>70.76</td>\n",
       "    </tr>\n",
       "    <tr>\n",
       "      <th>6</th>\n",
       "      <td>CCC</td>\n",
       "      <td>1580424245</td>\n",
       "      <td>7.0</td>\n",
       "      <td>22.99</td>\n",
       "      <td>7.78</td>\n",
       "      <td>3.84</td>\n",
       "    </tr>\n",
       "    <tr>\n",
       "      <th>...</th>\n",
       "      <td>...</td>\n",
       "      <td>...</td>\n",
       "      <td>...</td>\n",
       "      <td>...</td>\n",
       "      <td>...</td>\n",
       "      <td>...</td>\n",
       "    </tr>\n",
       "    <tr>\n",
       "      <th>9995</th>\n",
       "      <td>DDD</td>\n",
       "      <td>1580265826</td>\n",
       "      <td>3.0</td>\n",
       "      <td>9.99</td>\n",
       "      <td>0.52</td>\n",
       "      <td>0.68</td>\n",
       "    </tr>\n",
       "    <tr>\n",
       "      <th>9996</th>\n",
       "      <td>DDD</td>\n",
       "      <td>1579719495</td>\n",
       "      <td>2.0</td>\n",
       "      <td>9.99</td>\n",
       "      <td>0.19</td>\n",
       "      <td>0.51</td>\n",
       "    </tr>\n",
       "    <tr>\n",
       "      <th>9997</th>\n",
       "      <td>BBB</td>\n",
       "      <td>1579872262</td>\n",
       "      <td>11.0</td>\n",
       "      <td>15.00</td>\n",
       "      <td>6.96</td>\n",
       "      <td>2.57</td>\n",
       "    </tr>\n",
       "    <tr>\n",
       "      <th>9998</th>\n",
       "      <td>EEE</td>\n",
       "      <td>1578057662</td>\n",
       "      <td>16.0</td>\n",
       "      <td>199.99</td>\n",
       "      <td>42.43</td>\n",
       "      <td>14.63</td>\n",
       "    </tr>\n",
       "    <tr>\n",
       "      <th>9999</th>\n",
       "      <td>FFF</td>\n",
       "      <td>1579287420</td>\n",
       "      <td>3.0</td>\n",
       "      <td>250.00</td>\n",
       "      <td>28.65</td>\n",
       "      <td>26.53</td>\n",
       "    </tr>\n",
       "  </tbody>\n",
       "</table>\n",
       "<p>9998 rows × 6 columns</p>\n",
       "</div>"
      ],
      "text/plain": [
       "     widget   date_sold  quantity_sold  unit_price     tax  discount\n",
       "0       DDD  1579626005            2.0        9.99    0.26      0.51\n",
       "3       EEE  1578912699           18.0      199.99  176.89    145.83\n",
       "4       BBB  1579162853            4.0       15.00    2.19      2.70\n",
       "5       FFF  1579246947           16.0      250.00  111.96     70.76\n",
       "6       CCC  1580424245            7.0       22.99    7.78      3.84\n",
       "...     ...         ...            ...         ...     ...       ...\n",
       "9995    DDD  1580265826            3.0        9.99    0.52      0.68\n",
       "9996    DDD  1579719495            2.0        9.99    0.19      0.51\n",
       "9997    BBB  1579872262           11.0       15.00    6.96      2.57\n",
       "9998    EEE  1578057662           16.0      199.99   42.43     14.63\n",
       "9999    FFF  1579287420            3.0      250.00   28.65     26.53\n",
       "\n",
       "[9998 rows x 6 columns]"
      ]
     },
     "execution_count": 15,
     "metadata": {},
     "output_type": "execute_result"
    }
   ],
   "source": [
    "df_not_null = df.dropna()\n",
    "df_not_null"
   ]
  },
  {
   "cell_type": "markdown",
   "id": "preliminary-assets",
   "metadata": {},
   "source": [
    "We want to create a new dataframe (named `df_not_null`) that does not have any missing values.\n",
    "We want to do this by removing all **rows** that contain null values.\n",
    "\n",
    "Which of the following expressions will achieve this?\n",
    "\n",
    "I.\n",
    "```\n",
    "df_temp = df[pd.notnull(df['widget'])]\n",
    "df_not_null = df_temp[pd.notnull(df_temp['quantity_sold'])]\n",
    "```\n",
    "\n",
    "II.\n",
    "```\n",
    "df_not_null = df.dropna(axis=0)\n",
    "```\n",
    "\n",
    "III.\n",
    "```\n",
    "df_not_null = df.dropna()\n",
    "```\n",
    "\n",
    "- a. I only\n",
    "- b. II and III only\n",
    "- c. none of them\n",
    "- d. all of them\n"
   ]
  },
  {
   "cell_type": "markdown",
   "id": "living-range",
   "metadata": {},
   "source": [
    "#### Q5"
   ]
  },
  {
   "cell_type": "code",
   "execution_count": 16,
   "id": "c413adfd",
   "metadata": {},
   "outputs": [
    {
     "name": "stdout",
     "output_type": "stream",
     "text": [
      "<class 'pandas.core.frame.DataFrame'>\n",
      "Index: 9998 entries, 0 to 9999\n",
      "Data columns (total 6 columns):\n",
      " #   Column         Non-Null Count  Dtype  \n",
      "---  ------         --------------  -----  \n",
      " 0   widget         9998 non-null   object \n",
      " 1   date_sold      9998 non-null   int64  \n",
      " 2   quantity_sold  9998 non-null   float64\n",
      " 3   unit_price     9998 non-null   float64\n",
      " 4   tax            9998 non-null   float64\n",
      " 5   discount       9998 non-null   float64\n",
      "dtypes: float64(4), int64(1), object(1)\n",
      "memory usage: 546.8+ KB\n"
     ]
    }
   ],
   "source": [
    "df_not_null.info()"
   ]
  },
  {
   "cell_type": "markdown",
   "id": "instructional-southwest",
   "metadata": {},
   "source": [
    "Assume that `df_not_null` is the result of correctly removing any rows in the original data frame that contained any null values.\n",
    "\n",
    "Inspect this new data frame - what is the data type of `quantity_sold`?\n",
    "\n",
    "- a. `object`\n",
    "- b. `int64`\n",
    "- c. `float64`\n",
    "- d. `uint64`\n"
   ]
  },
  {
   "cell_type": "markdown",
   "id": "8b8b4501",
   "metadata": {},
   "source": [
    "#### Q6"
   ]
  },
  {
   "cell_type": "markdown",
   "id": "extraordinary-fortune",
   "metadata": {},
   "source": [
    "The data type for `quantity_sold` can be changed to be an integer since we expect all non-null values to be positive integers.\n",
    "\n",
    "Assuming `df_not_null` is a dataframe that contains no null values (derived from our original dataframe `df`), which of the following code results in `data` being a dataframe that contains the `quantity_sold` column as an `int64` data type?\n",
    "\n",
    "I.\n",
    "```\n",
    "quantity_sold = df_not_null['quantity_sold'].astype(int)\n",
    "data = pd.concat(\n",
    "    [\n",
    "        df_not_null[['widget', 'date_sold', 'unit_price', 'tax', 'discount']], \n",
    "        quantity_sold\n",
    "    ],\n",
    "    axis=1\n",
    ")\n",
    "```\n",
    "\n",
    "II.\n",
    "```\n",
    "quantity_sold = df_not_null['quantity_sold'].astype(int)\n",
    "data = df_not_null.drop('quantity_sold', axis=1)\n",
    "data = pd.concat([data, quantity_sold], axis=1, join='inner')\n",
    "```\n",
    "\n",
    "III.\n",
    "```\n",
    "quantity_sold = df['quantity_sold'].dropna().astype(int)\n",
    "data = df.drop('quantity_sold', axis=1)\n",
    "data = pd.concat([data, quantity_sold], axis=1, join='inner')\n",
    "```\n",
    "\n",
    "- a. I only\n",
    "- b. II only\n",
    "- c. III only\n",
    "- d. I and II only"
   ]
  },
  {
   "cell_type": "markdown",
   "id": "unlimited-princeton",
   "metadata": {},
   "source": [
    "#### Q7"
   ]
  },
  {
   "cell_type": "code",
   "execution_count": 27,
   "id": "89cde06f",
   "metadata": {},
   "outputs": [
    {
     "data": {
      "text/plain": [
       "84107129567.49"
      ]
     },
     "execution_count": 27,
     "metadata": {},
     "output_type": "execute_result"
    }
   ],
   "source": [
    "df_qsold = df_not_null['quantity_sold'].sum()\n",
    "df_uprice = df_not_null['unit_price'].sum()\n",
    "df_tax = df_not_null['tax'].sum()\n",
    "df_discount = df_not_null['discount'].sum()\n",
    "net_sale = df_qsold * df_uprice + df_tax - df_discount\n",
    "net_sale"
   ]
  },
  {
   "cell_type": "markdown",
   "id": "remarkable-rebate",
   "metadata": {},
   "source": [
    "The net sale for each row is given by:\n",
    "\n",
    "```quantity_sold * unit_price + tax - discount```"
   ]
  },
  {
   "cell_type": "markdown",
   "id": "satisfied-mechanics",
   "metadata": {},
   "source": [
    "Calculate the total net sales of the data contained in the dataframe that has all rows with null values removed, rounded to 2 decimal points.\n",
    "\n",
    "The answer is:\n",
    "- a. `8383874.86`\n",
    "- b. `7963979.82`\n",
    "- c. `8380560.82`\n",
    "- d. `99355.0`\n"
   ]
  },
  {
   "cell_type": "markdown",
   "id": "collective-buying",
   "metadata": {},
   "source": [
    "#### Q8"
   ]
  },
  {
   "cell_type": "code",
   "execution_count": 34,
   "id": "c5fd8b1e",
   "metadata": {},
   "outputs": [
    {
     "data": {
      "text/html": [
       "<div>\n",
       "<style scoped>\n",
       "    .dataframe tbody tr th:only-of-type {\n",
       "        vertical-align: middle;\n",
       "    }\n",
       "\n",
       "    .dataframe tbody tr th {\n",
       "        vertical-align: top;\n",
       "    }\n",
       "\n",
       "    .dataframe thead th {\n",
       "        text-align: right;\n",
       "    }\n",
       "</style>\n",
       "<table border=\"1\" class=\"dataframe\">\n",
       "  <thead>\n",
       "    <tr style=\"text-align: right;\">\n",
       "      <th></th>\n",
       "      <th>widget</th>\n",
       "      <th>date_sold</th>\n",
       "      <th>quantity_sold</th>\n",
       "      <th>unit_price</th>\n",
       "      <th>tax</th>\n",
       "      <th>discount</th>\n",
       "    </tr>\n",
       "  </thead>\n",
       "  <tbody>\n",
       "    <tr>\n",
       "      <th>8</th>\n",
       "      <td>AAA</td>\n",
       "      <td>1578253210</td>\n",
       "      <td>13.0</td>\n",
       "      <td>10.75</td>\n",
       "      <td>4.96</td>\n",
       "      <td>5.49</td>\n",
       "    </tr>\n",
       "    <tr>\n",
       "      <th>28</th>\n",
       "      <td>AAA</td>\n",
       "      <td>1578014639</td>\n",
       "      <td>1.0</td>\n",
       "      <td>10.75</td>\n",
       "      <td>0.10</td>\n",
       "      <td>0.52</td>\n",
       "    </tr>\n",
       "    <tr>\n",
       "      <th>33</th>\n",
       "      <td>AAA</td>\n",
       "      <td>1579503131</td>\n",
       "      <td>7.0</td>\n",
       "      <td>10.75</td>\n",
       "      <td>0.98</td>\n",
       "      <td>3.40</td>\n",
       "    </tr>\n",
       "    <tr>\n",
       "      <th>35</th>\n",
       "      <td>AAA</td>\n",
       "      <td>1578525575</td>\n",
       "      <td>6.0</td>\n",
       "      <td>10.75</td>\n",
       "      <td>1.10</td>\n",
       "      <td>0.81</td>\n",
       "    </tr>\n",
       "    <tr>\n",
       "      <th>50</th>\n",
       "      <td>AAA</td>\n",
       "      <td>1578409447</td>\n",
       "      <td>1.0</td>\n",
       "      <td>10.75</td>\n",
       "      <td>0.22</td>\n",
       "      <td>0.36</td>\n",
       "    </tr>\n",
       "    <tr>\n",
       "      <th>...</th>\n",
       "      <td>...</td>\n",
       "      <td>...</td>\n",
       "      <td>...</td>\n",
       "      <td>...</td>\n",
       "      <td>...</td>\n",
       "      <td>...</td>\n",
       "    </tr>\n",
       "    <tr>\n",
       "      <th>9974</th>\n",
       "      <td>AAA</td>\n",
       "      <td>1580535761</td>\n",
       "      <td>17.0</td>\n",
       "      <td>10.75</td>\n",
       "      <td>1.69</td>\n",
       "      <td>7.92</td>\n",
       "    </tr>\n",
       "    <tr>\n",
       "      <th>9975</th>\n",
       "      <td>AAA</td>\n",
       "      <td>1579846939</td>\n",
       "      <td>1.0</td>\n",
       "      <td>10.75</td>\n",
       "      <td>0.39</td>\n",
       "      <td>0.27</td>\n",
       "    </tr>\n",
       "    <tr>\n",
       "      <th>9980</th>\n",
       "      <td>AAA</td>\n",
       "      <td>1578959008</td>\n",
       "      <td>15.0</td>\n",
       "      <td>10.75</td>\n",
       "      <td>2.72</td>\n",
       "      <td>3.89</td>\n",
       "    </tr>\n",
       "    <tr>\n",
       "      <th>9985</th>\n",
       "      <td>AAA</td>\n",
       "      <td>1579604013</td>\n",
       "      <td>15.0</td>\n",
       "      <td>10.75</td>\n",
       "      <td>0.18</td>\n",
       "      <td>0.57</td>\n",
       "    </tr>\n",
       "    <tr>\n",
       "      <th>9989</th>\n",
       "      <td>AAA</td>\n",
       "      <td>1578956726</td>\n",
       "      <td>17.0</td>\n",
       "      <td>10.75</td>\n",
       "      <td>7.30</td>\n",
       "      <td>4.70</td>\n",
       "    </tr>\n",
       "  </tbody>\n",
       "</table>\n",
       "<p>1647 rows × 6 columns</p>\n",
       "</div>"
      ],
      "text/plain": [
       "     widget   date_sold  quantity_sold  unit_price   tax  discount\n",
       "8       AAA  1578253210           13.0       10.75  4.96      5.49\n",
       "28      AAA  1578014639            1.0       10.75  0.10      0.52\n",
       "33      AAA  1579503131            7.0       10.75  0.98      3.40\n",
       "35      AAA  1578525575            6.0       10.75  1.10      0.81\n",
       "50      AAA  1578409447            1.0       10.75  0.22      0.36\n",
       "...     ...         ...            ...         ...   ...       ...\n",
       "9974    AAA  1580535761           17.0       10.75  1.69      7.92\n",
       "9975    AAA  1579846939            1.0       10.75  0.39      0.27\n",
       "9980    AAA  1578959008           15.0       10.75  2.72      3.89\n",
       "9985    AAA  1579604013           15.0       10.75  0.18      0.57\n",
       "9989    AAA  1578956726           17.0       10.75  7.30      4.70\n",
       "\n",
       "[1647 rows x 6 columns]"
      ]
     },
     "execution_count": 34,
     "metadata": {},
     "output_type": "execute_result"
    }
   ],
   "source": [
    "aaa = df_not_null[df_not_null['widget'] == 'AAA']\n",
    "aaa"
   ]
  },
  {
   "cell_type": "code",
   "execution_count": 49,
   "id": "30069f92",
   "metadata": {},
   "outputs": [
    {
     "data": {
      "text/plain": [
       "212.56"
      ]
     },
     "execution_count": 49,
     "metadata": {},
     "output_type": "execute_result"
    }
   ],
   "source": [
    "df_qsold = aaa['quantity_sold']\n",
    "df_uprice = aaa['unit_price']\n",
    "df_tax = aaa['tax']\n",
    "df_discount = aaa['discount']\n",
    "net_sale = df_qsold * df_uprice + df_tax - df_discount\n",
    "second = net_sale.sort_values(ascending=True)\n",
    "second.iloc[-2]"
   ]
  },
  {
   "cell_type": "markdown",
   "id": "trained-earth",
   "metadata": {},
   "source": [
    "Identify the date on which the **second** highest net sale for widget `AAA` occurred.\n",
    "\n",
    "Just as before, the net sale formula is given by:\n",
    "```quantity_sold * unit_price + tax - discount```\n",
    "\n",
    "This sale happened on this date:\n",
    "s\n",
    "- a. 2020-01-21T16:22:07\n",
    "- b. 2020-01-21T21:39:52\n",
    "- c. 2020-01-26T00:30:51\n",
    "- d. 2020-01-23T21:31:26\n"
   ]
  },
  {
   "cell_type": "markdown",
   "id": "together-coordinate",
   "metadata": {},
   "source": [
    "#### Q9"
   ]
  },
  {
   "cell_type": "code",
   "execution_count": 58,
   "id": "d04ac954",
   "metadata": {},
   "outputs": [
    {
     "data": {
      "text/plain": [
       "widget\n",
       "BBB    1704\n",
       "DDD    1667\n",
       "EEE    1667\n",
       "FFF    1661\n",
       "CCC    1652\n",
       "AAA    1647\n",
       "Name: count, dtype: int64"
      ]
     },
     "execution_count": 58,
     "metadata": {},
     "output_type": "execute_result"
    }
   ],
   "source": [
    "counts = df_not_null['widget'].value_counts()\n",
    "counts"
   ]
  },
  {
   "cell_type": "markdown",
   "id": "comic-seafood",
   "metadata": {},
   "source": [
    "Calculate the number of rows (sales) that each widget has generated (limit your dataframe to rows that contain no null values)."
   ]
  },
  {
   "cell_type": "markdown",
   "id": "recreational-venice",
   "metadata": {},
   "source": [
    "Represented as a dictionary, the result is:\n",
    "\n",
    "a. \n",
    "```\n",
    "{'AAA': 1646, 'BBB': 1705, 'CCC': 1653, 'DDD': 1666, 'EEE': 1668, 'FFF': 1661}\n",
    "```\n",
    "\n",
    "b.\n",
    "```\n",
    "{'AAA': 1647, 'BBB': 1704, 'CCC': 1652, 'DDD': 1667, 'EEE': 1667, 'FFF': 1661}\n",
    "```\n",
    "\n",
    "c.\n",
    "```\n",
    "{'AAA': 1666, 'BBB': 1666, 'CCC': 1666, 'DDD': 1666, 'EEE': 1666, 'FFF': 1670}\n",
    "```\n",
    "\n",
    "d.\n",
    "```\n",
    "{'AAA': 1647, 'BBB': 1705, 'CCC': 1652, 'DDD': 1667, 'EEE': 1667, 'FFF': 1661, NAN: 1}\n",
    "```\n"
   ]
  },
  {
   "cell_type": "markdown",
   "id": "manual-valuable",
   "metadata": {},
   "source": [
    "#### Q10"
   ]
  },
  {
   "cell_type": "markdown",
   "id": "promotional-rental",
   "metadata": {},
   "source": [
    "Limiting your dataframe to rows with non-null values only, calculate the average percentage discount (rounded to 2 digits after the decimal point) of each widget.\n",
    "\n",
    "(The percentage discount for a specific row in the dataframe is given by:\n",
    "```\n",
    "discount / (quantity_sold * unit_price) * 100\n",
    "```\n",
    ")\n",
    "\n",
    "Represented as a dictionary, the result is:\n",
    "\n",
    "a. \n",
    "```\n",
    "{'AAA': 2.44, 'BBB': 2.5, 'CCC': 2.49, 'DDD': 2.45, 'EEE': 2.48, 'FFF': 2.46}\n",
    "```\n",
    "\n",
    "b.\n",
    "```\n",
    "{'AAA': 2.35, 'BBB': 2.49, 'CCC': 2.42, 'DDD': 2.39, 'EEE': 2.44, 'FFF': 2.47}\n",
    "```\n",
    "\n",
    "c.\n",
    "```\n",
    "{'AAA': 2.14, 'BBB': 2.23, 'CCC': 2.2, 'DDD': 2.14, 'EEE': 2.24, 'FFF': 2.2}\n",
    "```\n",
    "\n",
    "d.\n",
    "```\n",
    "{'AAA': 2.65, 'BBB': 2.76, 'CCC': 2.71, 'DDD': 2.63, 'EEE': 2.72, 'FFF': 2.7}\n",
    "```\n"
   ]
  },
  {
   "cell_type": "code",
   "execution_count": null,
   "id": "db050cad",
   "metadata": {},
   "outputs": [],
   "source": []
  }
 ],
 "metadata": {
  "kernelspec": {
   "display_name": "Python 3",
   "language": "python",
   "name": "python3"
  },
  "language_info": {
   "codemirror_mode": {
    "name": "ipython",
    "version": 3
   },
   "file_extension": ".py",
   "mimetype": "text/x-python",
   "name": "python",
   "nbconvert_exporter": "python",
   "pygments_lexer": "ipython3",
   "version": "3.12.3"
  }
 },
 "nbformat": 4,
 "nbformat_minor": 5
}
