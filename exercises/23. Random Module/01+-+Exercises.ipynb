{
 "cells": [
  {
   "cell_type": "markdown",
   "id": "willing-privacy",
   "metadata": {},
   "source": [
    "### Exercises"
   ]
  },
  {
   "cell_type": "markdown",
   "id": "biological-eugene",
   "metadata": {},
   "source": [
    "#### Question 1"
   ]
  },
  {
   "cell_type": "markdown",
   "id": "convertible-romance",
   "metadata": {},
   "source": [
    "Generate the sample space of rolling two 6-sided dice, numbered `'9', '10', 'J', 'Q', 'K', 'A'`."
   ]
  },
  {
   "cell_type": "markdown",
   "id": "stock-relations",
   "metadata": {},
   "source": [
    "(The sample space is the set of all possible outcomes)."
   ]
  },
  {
   "cell_type": "markdown",
   "id": "strong-russia",
   "metadata": {},
   "source": [
    "Your result should be a list containing tuples for the outcome of each die, e.g.\n",
    "\n",
    "```\n",
    "[('9', '9'),\n",
    " ('9', '10'),\n",
    " ('9', 'J'),\n",
    " ('9', 'Q'),\n",
    " ('9', 'K'),\n",
    " ('9', 'A'),\n",
    " ('10', '9'),\n",
    " ('10', '10'),\n",
    " ('10', 'J'),\n",
    " ('10', 'Q'),\n",
    " ('10', 'K'),\n",
    " ('10', 'A'),\n",
    " etc\n",
    "```"
   ]
  },
  {
   "cell_type": "markdown",
   "id": "chicken-proceeding",
   "metadata": {},
   "source": [
    "Make this a function that returns the sample space, called `make_sample_space`."
   ]
  },
  {
   "cell_type": "code",
   "execution_count": 1,
   "id": "e827776b",
   "metadata": {},
   "outputs": [
    {
     "data": {
      "text/plain": [
       "[('9', '9'),\n",
       " ('9', '10'),\n",
       " ('9', 'J'),\n",
       " ('9', 'Q'),\n",
       " ('9', 'K'),\n",
       " ('9', 'A'),\n",
       " ('10', '9'),\n",
       " ('10', '10'),\n",
       " ('10', 'J'),\n",
       " ('10', 'Q'),\n",
       " ('10', 'K'),\n",
       " ('10', 'A'),\n",
       " ('J', '9'),\n",
       " ('J', '10'),\n",
       " ('J', 'J'),\n",
       " ('J', 'Q'),\n",
       " ('J', 'K'),\n",
       " ('J', 'A'),\n",
       " ('Q', '9'),\n",
       " ('Q', '10'),\n",
       " ('Q', 'J'),\n",
       " ('Q', 'Q'),\n",
       " ('Q', 'K'),\n",
       " ('Q', 'A'),\n",
       " ('K', '9'),\n",
       " ('K', '10'),\n",
       " ('K', 'J'),\n",
       " ('K', 'Q'),\n",
       " ('K', 'K'),\n",
       " ('K', 'A'),\n",
       " ('A', '9'),\n",
       " ('A', '10'),\n",
       " ('A', 'J'),\n",
       " ('A', 'Q'),\n",
       " ('A', 'K'),\n",
       " ('A', 'A')]"
      ]
     },
     "execution_count": 1,
     "metadata": {},
     "output_type": "execute_result"
    }
   ],
   "source": [
    "def make_sample_space():\n",
    "    sample_space = []\n",
    "    face_values = ['9', '10', 'J', 'Q', 'K', 'A']\n",
    "    for v1 in face_values:\n",
    "        for v2 in face_values:\n",
    "            sample_space.append((v1, v2))\n",
    "    \n",
    "    return sample_space\n",
    "\n",
    "make_sample_space()"
   ]
  },
  {
   "cell_type": "markdown",
   "id": "searching-footwear",
   "metadata": {},
   "source": [
    "#### Question 2"
   ]
  },
  {
   "cell_type": "markdown",
   "id": "matched-opening",
   "metadata": {},
   "source": [
    "Using the sample space you just created above, simulate throwing the two die `n` times by making random choices from the sample space."
   ]
  },
  {
   "cell_type": "markdown",
   "id": "olive-athens",
   "metadata": {},
   "source": [
    "Again, make this into a function that returns the random choices as a list of tuples, with `n` as a parameter of this function.\n",
    "\n",
    "Call the function `simulate_throws_from_sample_space`."
   ]
  },
  {
   "cell_type": "code",
   "execution_count": 1,
   "id": "0b327837",
   "metadata": {},
   "outputs": [
    {
     "data": {
      "text/plain": [
       "[('Q', 'J'), ('Q', '9'), ('9', 'Q'), ('Q', 'J'), ('Q', 'J')]"
      ]
     },
     "execution_count": 1,
     "metadata": {},
     "output_type": "execute_result"
    }
   ],
   "source": [
    "import random\n",
    "\n",
    "def make_sample_space():\n",
    "    sample_space = []\n",
    "    face_values = ['9', '10', 'J', 'Q', 'K', 'A']\n",
    "    for v1 in face_values:\n",
    "        for v2 in face_values:\n",
    "            sample_space.append((v1, v2))\n",
    "    \n",
    "    return sample_space\n",
    "\n",
    "def simulate_throws_from_sample_space(n):\n",
    "    return random.choices(make_sample_space(), k=n)\n",
    "\n",
    "simulate_throws_from_sample_space(5)"
   ]
  },
  {
   "cell_type": "markdown",
   "id": "nearby-first",
   "metadata": {},
   "source": [
    "#### Question 3"
   ]
  },
  {
   "cell_type": "markdown",
   "id": "compliant-eleven",
   "metadata": {},
   "source": [
    "Your goal here is to implement a function `simulate_throws`, similar to the one you wrote in Question 2, but without generating a sample space at all - just using the `face_values`.\n",
    "\n",
    "Write a function that implements this, and name it `simulate_throws`."
   ]
  },
  {
   "cell_type": "code",
   "execution_count": 21,
   "id": "f5f72703",
   "metadata": {},
   "outputs": [
    {
     "data": {
      "text/plain": [
       "[('9', 'K'),\n",
       " ('Q', 'Q'),\n",
       " ('Q', '10'),\n",
       " ('A', 'Q'),\n",
       " ('9', 'A'),\n",
       " ('Q', 'K'),\n",
       " ('Q', 'A')]"
      ]
     },
     "execution_count": 21,
     "metadata": {},
     "output_type": "execute_result"
    }
   ],
   "source": [
    "import random\n",
    "\n",
    "face_values = ['9', '10', 'J', 'Q', 'K', 'A']\n",
    "\n",
    "def simulate_throws(n):\n",
    "    return [tuple(random.choices(face_values, k=2)) for _ in range(n)]\n",
    "\n",
    "simulate_throws(7)"
   ]
  },
  {
   "cell_type": "markdown",
   "id": "useful-claim",
   "metadata": {},
   "source": [
    "#### Question 4"
   ]
  },
  {
   "cell_type": "markdown",
   "id": "photographic-collection",
   "metadata": {},
   "source": [
    "Using both methods of generating throws, build a dictionary that contains the face values as keys, and the number of times they were selected in the simulated throws."
   ]
  },
  {
   "cell_type": "markdown",
   "id": "hybrid-titanium",
   "metadata": {},
   "source": [
    "For example, assuming you made `100` throws using one of these methods, your dictionary might look like this:\n",
    "\n",
    "```\n",
    "{\n",
    "    '9': 39, \n",
    "    '10': 27, \n",
    "    'J': 28, \n",
    "    'Q': 34,\n",
    "    'K': 36, \n",
    "    'A': 36\n",
    "}\n",
    "```"
   ]
  },
  {
   "cell_type": "markdown",
   "id": "included-willow",
   "metadata": {},
   "source": [
    "Note that your values in the dictionary should add up to `200` is you made one `100` throws."
   ]
  },
  {
   "cell_type": "markdown",
   "id": "stuffed-think",
   "metadata": {},
   "source": [
    "Write a function that is given the function to use to generate the throws, the number of throws to simulate, and returns this dictionary."
   ]
  },
  {
   "cell_type": "code",
   "execution_count": 27,
   "id": "b01e78e7",
   "metadata": {},
   "outputs": [
    {
     "data": {
      "text/plain": [
       "{'Q': 19, 'K': 20, '9': 31, '10': 28, 'J': 23, 'A': 19}"
      ]
     },
     "execution_count": 27,
     "metadata": {},
     "output_type": "execute_result"
    }
   ],
   "source": [
    "from collections import Counter\n",
    "\n",
    "def frequency_analysis():\n",
    "    sample = simulate_throws(70)\n",
    "    frequencies = {}\n",
    "    for row in sample:\n",
    "        for value in row:\n",
    "            frequencies[value] = frequencies.get(value, 0) + 1\n",
    "    \n",
    "    return frequencies\n",
    "\n",
    "frequency_analysis()"
   ]
  },
  {
   "cell_type": "markdown",
   "id": "occupational-ladder",
   "metadata": {},
   "source": [
    "#### Question 5"
   ]
  },
  {
   "cell_type": "markdown",
   "id": "vietnamese-coral",
   "metadata": {},
   "source": [
    "Write a function that given two arguments `a` and `b` returns a random float between `a` (inclusive) and `b` (exclusive)."
   ]
  },
  {
   "cell_type": "code",
   "execution_count": 37,
   "id": "5b567c89",
   "metadata": {},
   "outputs": [
    {
     "data": {
      "text/plain": [
       "3.0882847397563786"
      ]
     },
     "execution_count": 37,
     "metadata": {},
     "output_type": "execute_result"
    }
   ],
   "source": [
    "import random\n",
    "\n",
    "def random_float(a=0, b=1):\n",
    "    return a + random.random() * (b - a)\n",
    "\n",
    "random_float(2, 4)"
   ]
  }
 ],
 "metadata": {
  "kernelspec": {
   "display_name": "Python 3",
   "language": "python",
   "name": "python3"
  },
  "language_info": {
   "codemirror_mode": {
    "name": "ipython",
    "version": 3
   },
   "file_extension": ".py",
   "mimetype": "text/x-python",
   "name": "python",
   "nbconvert_exporter": "python",
   "pygments_lexer": "ipython3",
   "version": "3.12.2"
  }
 },
 "nbformat": 4,
 "nbformat_minor": 5
}
